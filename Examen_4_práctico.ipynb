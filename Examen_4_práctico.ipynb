{
 "cells": [
  {
   "cell_type": "markdown",
   "id": "d8eaba01",
   "metadata": {},
   "source": [
    "## <font color='navy'> Examen 4. Laboratorio de Aprendizaje Estadístico.\n",
    "    \n",
    "### <font color='navy'> PCA, KMeans y Learners\n",
    "\n",
    "Luis Fernando Márquez Bañuelos | 744489"
   ]
  }
 ],
 "metadata": {
  "language_info": {
   "name": "python"
  }
 },
 "nbformat": 4,
 "nbformat_minor": 5
}
