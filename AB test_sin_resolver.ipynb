{
 "cells": [
  {
   "cell_type": "code",
   "execution_count": 1,
   "metadata": {},
   "outputs": [],
   "source": [
    "import pandas as pd\n",
    "import matplotlib.pyplot as plt\n",
    "import numpy as np\n",
    "from scipy import stats\n",
    "import seaborn as sns\n",
    " \n",
    "\n",
    "# Tenemos la siguiente pregunta, un grupo de sociologos reunieron datos para ver \n",
    "# si las clases sen linea son malas o buenas, tomando como métrica un examen\n",
    "# Puedo ver el promedio de los examenes y usarlo como métrica definitoria\n",
    "data = pd.read_csv(\"online_classroom.csv\")\n",
    "online = data.query(\"format_ol==1\")[\"falsexam\"]\n",
    "face_to_face = data.query(\"format_ol==0 & format_blended==0\")[\"falsexam\"]\n"
   ]
  },
  {
   "cell_type": "code",
   "execution_count": 2,
   "metadata": {},
   "outputs": [
    {
     "data": {
      "text/plain": [
       "(78.54748458333333, 120)"
      ]
     },
     "execution_count": 2,
     "metadata": {},
     "output_type": "execute_result"
    }
   ],
   "source": [
    "# Promedio y longitud presencial\n",
    "(face_to_face.mean(), len(face_to_face))"
   ]
  },
  {
   "cell_type": "code",
   "execution_count": 3,
   "metadata": {},
   "outputs": [
    {
     "data": {
      "text/plain": [
       "(73.63526308510637, 94)"
      ]
     },
     "execution_count": 3,
     "metadata": {},
     "output_type": "execute_result"
    }
   ],
   "source": [
    "# Promedio y tamaño online\n",
    "(online.mean(), len(online))"
   ]
  },
  {
   "cell_type": "markdown",
   "metadata": {},
   "source": [
    "Diferencia entre los promedios, ¿esto es confiable?"
   ]
  },
  {
   "cell_type": "code",
   "execution_count": 4,
   "metadata": {},
   "outputs": [
    {
     "data": {
      "text/plain": [
       "4.912221498226955"
      ]
     },
     "execution_count": 4,
     "metadata": {},
     "output_type": "execute_result"
    }
   ],
   "source": [
    "face_to_face.mean() - online.mean()"
   ]
  },
  {
   "cell_type": "markdown",
   "metadata": {},
   "source": [
    "La verdad es que no tengo muchos datos, recolectar más muchas veces es complicado y costoso. Necesito una conclusión.\n",
    "\n",
    "**La diferencia promedio entre online y presencial es significativa, si o no ***\n",
    "\n",
    "¿Cómo le puedo hacer?"
   ]
  },
  {
   "cell_type": "markdown",
   "metadata": {},
   "source": [
    "### Teorema central del límite\n",
    "\n",
    "Los promedios siguen una distribución normal"
   ]
  },
  {
   "cell_type": "code",
   "execution_count": 5,
   "metadata": {},
   "outputs": [
    {
     "data": {
      "image/png": "[encoded data removed]",
      "text/plain": [
       "<Figure size 640x480 with 1 Axes>"
      ]
     },
     "metadata": {},
     "output_type": "display_data"
    }
   ],
   "source": [
    "## Ejemplo, face to face no es normal\n",
    "face_to_face.hist();"
   ]
  },
  {
   "cell_type": "markdown",
   "metadata": {},
   "source": [
    "Pero si lo resampleo y tomo sus promedios si sería normal"
   ]
  },
  {
   "cell_type": "code",
   "execution_count": 6,
   "metadata": {},
   "outputs": [],
   "source": [
    "promedios = []\n",
    "for i in range(1000):\n",
    "    promedios.append(face_to_face.sample(len(face_to_face), replace=True).mean())\n",
    "\n",
    "promedios;"
   ]
  },
  {
   "cell_type": "markdown",
   "metadata": {},
   "source": [
    "Los promedios mágicamente siguen una distribución normal"
   ]
  },
  {
   "cell_type": "code",
   "execution_count": 7,
   "metadata": {},
   "outputs": [
    {
     "data": {
      "image/png": "[encoded data removed]",
      "text/plain": [
       "<Figure size 640x480 with 1 Axes>"
      ]
     },
     "metadata": {},
     "output_type": "display_data"
    }
   ],
   "source": [
    "plt.hist(promedios, bins=50, edgecolor='black');"
   ]
  },
  {
   "cell_type": "markdown",
   "metadata": {},
   "source": [
    "### Error estandard"
   ]
  },
  {
   "cell_type": "markdown",
   "metadata": {},
   "source": [
    "El error estandard sería la desviación estandard de los promedios posibles\n",
    "\n",
    "\n",
    "Si $X$ son $n$ observaciones independientes con una media $\\mu$ y una varianza $\\sigma^2$\n",
    "\n",
    "$T = (X_1 + X_2 + X_3 + ... + X_n)$\n",
    "\n",
    "$Var(T) = n\\sigma^2$\n",
    "\n",
    "$Var(\\frac{T}{n}) = Var(\\frac{1}{n} * T) = \\frac{1}{n^2} * Var(T) = \\frac{1}{n^2} * n\\sigma^2  = \\frac{\\sigma^2}{n}$\n",
    "\n",
    "Ojo: la varianza de $\\frac{T}{n}$ es la varianza de los promedios\n",
    "\n",
    "\n",
    "La desviación estandard de lo anterior sería:\n",
    "\n",
    "$Sd(\\frac{T}{n}) = \\frac{\\sigma}{\\sqrt{n}}$"
   ]
  },
  {
   "cell_type": "code",
   "execution_count": 8,
   "metadata": {},
   "outputs": [
    {
     "data": {
      "text/plain": [
       "0.8723511456319104"
      ]
     },
     "execution_count": 8,
     "metadata": {},
     "output_type": "execute_result"
    }
   ],
   "source": [
    "### Error estandard de face to face\n",
    "face_to_face.std() / np.sqrt(len(face_to_face))"
   ]
  },
  {
   "cell_type": "code",
   "execution_count": 9,
   "metadata": {},
   "outputs": [
    {
     "data": {
      "text/plain": [
       "0.8531591210977545"
      ]
     },
     "execution_count": 9,
     "metadata": {},
     "output_type": "execute_result"
    }
   ],
   "source": [
    "# La desvición estandard de nuestra simulación debe ser muy similar\n",
    "np.std(promedios)"
   ]
  },
  {
   "cell_type": "code",
   "execution_count": 19,
   "metadata": {},
   "outputs": [
    {
     "data": {
      "text/plain": [
       "0.8723511456319106"
      ]
     },
     "execution_count": 19,
     "metadata": {},
     "output_type": "execute_result"
    }
   ],
   "source": [
    "# Si usamos pandas\n",
    "face_to_face.sem()"
   ]
  },
  {
   "cell_type": "markdown",
   "metadata": {},
   "source": [
    "### Explicar que es el error estandard"
   ]
  },
  {
   "cell_type": "markdown",
   "metadata": {},
   "source": [
    "Tenemos una muestra de datos la cual pertenece a una muestra mayor la cual no conocemos.\n",
    "\n",
    "Los promeddios posibles de esa muestra hipotetica de datos siguen una _distribución normal_ por el teorema central del límite  \n",
    "\n",
    "Matemáticamente sabemos que la desviación estandard de ese promedio desconocido es el error estandard\n",
    "\n"
   ]
  },
  {
   "cell_type": "markdown",
   "metadata": {},
   "source": [
    "#### Aplicando el error estandard\n",
    "\n",
    "Si los promedios de mis datos siguen una distribución normal, puedo sacar algunas conclusiones interesantes. \n",
    "\n",
    "Sabemos que dentro de una distribución normal\n",
    "- 1 desviación estandard estan 68% de los datos\n",
    "- 2 desviaciones estandard están 95% de los datos\n",
    "- 3 desviaciones estandard estan 99% de los datos\n",
    "\n",
    "\n",
    "\n"
   ]
  },
  {
   "cell_type": "code",
   "execution_count": 11,
   "metadata": {},
   "outputs": [],
   "source": [
    "# Error estandard de las variables en cuestión\n"
   ]
  },
  {
   "cell_type": "markdown",
   "metadata": {},
   "source": [
    "### Intervalo de confianza\n",
    "\n",
    "Dame el intervalo de confianza al 95% del promedio de clases en linea y presencial\n"
   ]
  },
  {
   "cell_type": "code",
   "execution_count": 20,
   "metadata": {},
   "outputs": [
    {
     "data": {
      "text/plain": [
       "(70.56094429049804, 76.7095818797147)"
      ]
     },
     "execution_count": 20,
     "metadata": {},
     "output_type": "execute_result"
    }
   ],
   "source": [
    "(online.mean() - 2*online.sem(), online.mean() + 2*online.sem())"
   ]
  },
  {
   "cell_type": "code",
   "execution_count": 21,
   "metadata": {},
   "outputs": [
    {
     "data": {
      "text/plain": [
       "(76.80278229206951, 80.29218687459715)"
      ]
     },
     "execution_count": 21,
     "metadata": {},
     "output_type": "execute_result"
    }
   ],
   "source": [
    "(face_to_face.mean() - 2*face_to_face.sem(), face_to_face.mean() + 2*face_to_face.sem())"
   ]
  },
  {
   "cell_type": "markdown",
   "metadata": {},
   "source": [
    "### Prueba de hipotesis\n",
    "\n",
    "Al sumar dos variables normaes:\n",
    "\n",
    "$N(\\mu_1, \\sigma^2_1) + N(\\mu_2, \\sigma^2_2)  = N(\\mu_1 + \\mu_2, \\sigma^2_1 + \\sigma^2_2)$ \n",
    "\n",
    "Y al restar\n",
    "$N(\\mu_1, \\sigma^2_1) - N(\\mu_2, \\sigma^2_2)  = N(\\mu_1 - \\mu_2, \\sigma^2_1 + \\sigma^2_2)$ \n",
    "\n",
    "Si no me creen:\n",
    "\n",
    "histtype='step'"
   ]
  },
  {
   "cell_type": "code",
   "execution_count": 24,
   "metadata": {},
   "outputs": [
    {
     "data": {
      "image/png": "[encoded data removed]",
      "text/plain": [
       "<Figure size 640x480 with 1 Axes>"
      ]
     },
     "metadata": {},
     "output_type": "display_data"
    }
   ],
   "source": [
    "np.random.seed(123)\n",
    "df_normals = pd.DataFrame({\n",
    "    'n1': np.random.normal(4, 3, 30000),\n",
    "    'n2': np.random.normal(1, 4, 30000)\n",
    "})\n",
    "\n",
    "df_normals['difference'] = df_normals['n1'] - df_normals['n2']\n",
    "\n",
    "plt.hist(df_normals.n1, histtype='step', density=True, bins=50, label='n1')\n",
    "plt.hist(df_normals.n2, histtype='step', density=True, bins=50, label='n2')\n",
    "plt.hist(df_normals.difference, histtype='step', density=True, bins=50, label='difference')\n",
    "plt.legend();"
   ]
  },
  {
   "cell_type": "markdown",
   "metadata": {},
   "source": [
    "En este caso, sabemos que *los promedios* tienen una distribución normal "
   ]
  },
  {
   "cell_type": "markdown",
   "metadata": {},
   "source": [
    "En este momento yo tengo dos promedios con sus respectivas desviaciones estandard, quiere decir que puedo combinar la distribución de las clases online y presencial. \n",
    "\n",
    "Al hacer esta combinación podría sacar estadísticas interesantes.\n",
    "\n",
    "¿Las diferencias entre online y presencial como se ven? ¿Cuál es su distribución ¿Eso me puede ayudar a determinar que es mejor?\n",
    "\n",
    "\n",
    "$\\mu_{diff} = \\mu_1 - \\mu_2 $\n",
    "\n",
    "$SE_{diff} = \\sqrt{SE^2_1 + SE^2_2}$"
   ]
  },
  {
   "cell_type": "code",
   "execution_count": 26,
   "metadata": {},
   "outputs": [
    {
     "name": "stdout",
     "output_type": "stream",
     "text": [
      "Intervalo de confianza del efecto causal de tener clases en linea entre -8.44710793714168 y -1.3773350593122307\n"
     ]
    }
   ],
   "source": [
    "### Mu diff\n",
    "mu_diff = online.mean() - face_to_face.mean()\n",
    "## SE diff\n",
    "se_diff = np.sqrt(online.sem()**2 + face_to_face.sem()**2)\n",
    "# CI\n",
    "print(f'Intervalo de confianza del efecto causal de tener clases en linea entre {mu_diff - 2*se_diff} y {mu_diff + 2*se_diff}')"
   ]
  },
  {
   "cell_type": "markdown",
   "metadata": {},
   "source": [
    "stats.norm.pdf\n",
    "plt.vlines"
   ]
  },
  {
   "cell_type": "code",
   "execution_count": 34,
   "metadata": {},
   "outputs": [
    {
     "data": {
      "image/png": "[encoded data removed]",
      "text/plain": [
       "<Figure size 640x480 with 1 Axes>"
      ]
     },
     "metadata": {},
     "output_type": "display_data"
    }
   ],
   "source": [
    "## Visualizando \n",
    "x = np.linspace(mu_diff - 4*se_diff, mu_diff + 4*se_diff, 1000)\n",
    "y = stats.norm.pdf(x, mu_diff, se_diff)\n",
    "\n",
    "plt.vlines(mu_diff - 2*se_diff, ymin=0, ymax=0.05, colors = 'red')\n",
    "plt.vlines(mu_diff + 2*se_diff, ymin=0, ymax=0.05, colors = 'red')\n",
    "\n",
    "\n",
    "plt.plot(x, y, c = 'navy');"
   ]
  },
  {
   "cell_type": "markdown",
   "metadata": {},
   "source": [
    "Con esto en mano, podemos decir que hay un 95% de confianza de que la verdadera diferencia en medias de online y clases presenciales este entre -8.37 y -1.44\n",
    "\n",
    "\n",
    "\n",
    "#### Repasando: estadístico Z\n",
    "Si X es una variable aleatoria normalmente distribuida y $X ~ N(μ, σ)$, entonces la puntuación z para una determinada $x$ es:\n",
    "\n",
    "$z = \\frac{x - \\mu}{\\sigma}$\n",
    "\n",
    "\n",
    "Como han visto en sus otras clases, hacer algo \"normal estandard\" es simplemente escalar sus datos a que tengan media 0 y varianza 1\n",
    "\n",
    "\n",
    "\n",
    "\n",
    "#### Adaptnado esto al problema\n",
    "\n",
    "Podría transformar las diferencias entre online y presencial a una distribución nor,al estandard, _asumiendo que la diferencia real es 0_ (lingo estadístico: la hipotesis nula $H_0$=0).\n",
    "\n",
    "Al hacer esto, puedo ver que tan extremo se ve esta diferencia en la distribución normal estandard, si da muy extremo entonces seria raro y podemos calcular la probabilidad de que sea azar.\n",
    "\n",
    "- $x$ serían las diferencias \n",
    "- $\\mu$ sería 0, ya que quiero ve tan probable es esto\n",
    "- $\\sigma$ sería el error estandard de las diferencias \n",
    "\n",
    "De esto:\n",
    "\n",
    "$z = \\frac{x - \\mu}{\\sigma}$\n",
    "\n",
    "Pasamos a esto:\n",
    "\n",
    "\n",
    "$z = \\frac{\\mu_{diff} - H_0}{SE_{diff}}$\n",
    "\n",
    "Dado que mi hipotesis es que los promedios _no varían_, $H_0 = 0$ \n",
    "\n",
    "$z = \\frac{\\mu_{diff}}{SE_{diff}}$\n",
    "\n",
    "\n"
   ]
  },
  {
   "cell_type": "code",
   "execution_count": 36,
   "metadata": {},
   "outputs": [
    {
     "data": {
      "text/plain": [
       "-2.779281079103123"
      ]
     },
     "execution_count": 36,
     "metadata": {},
     "output_type": "execute_result"
    }
   ],
   "source": [
    "# Calcula el estadístico Z\n",
    "z = mu_diff / se_diff\n",
    "z"
   ]
  },
  {
   "cell_type": "markdown",
   "metadata": {},
   "source": [
    "En una distribución normal estandard, este resultado Z es bastante extremo no parece ser resultado de azar"
   ]
  },
  {
   "cell_type": "code",
   "execution_count": null,
   "metadata": {},
   "outputs": [],
   "source": []
  },
  {
   "cell_type": "markdown",
   "metadata": {},
   "source": [
    "stats.norm.cdf"
   ]
  },
  {
   "cell_type": "code",
   "execution_count": 37,
   "metadata": {},
   "outputs": [
    {
     "data": {
      "text/plain": [
       "0.002723968083556333"
      ]
     },
     "execution_count": 37,
     "metadata": {},
     "output_type": "execute_result"
    }
   ],
   "source": [
    "# Obten el p value\n",
    "stats.norm.cdf(z)"
   ]
  },
  {
   "cell_type": "code",
   "execution_count": 17,
   "metadata": {},
   "outputs": [],
   "source": [
    "## Probabilidad de que las diferencias entre desempeños sean producto del azar\n"
   ]
  },
  {
   "cell_type": "code",
   "execution_count": null,
   "metadata": {},
   "outputs": [],
   "source": []
  },
  {
   "cell_type": "code",
   "execution_count": 39,
   "metadata": {},
   "outputs": [
    {
     "name": "stdout",
     "output_type": "stream",
     "text": [
      "Variable test entre: 70.56094429049804 y 76.7095818797147\n",
      "Variable control entre: 76.80278229206951 y 80.29218687459715\n",
      "Intervalo de confianza del efecto causal de ser test entre -8.44710793714168 y -1.3773350593122307\n",
      "Z score: -2.779281079103123\n",
      "P value: 0.002723968083556333\n"
     ]
    }
   ],
   "source": [
    "## Crea un código base para el AB test\n",
    "def AB_test(test, control):\n",
    "    # Mu\n",
    "    mu_test = test.mean()\n",
    "    mu_control = control.mean()\n",
    "    # SE\n",
    "    se_test = test.sem()\n",
    "    se_control = control.sem()\n",
    "    # Differences\n",
    "    mu_diff = mu_test - mu_control\n",
    "    se_diff = np.sqrt(se_test**2 + se_control**2)\n",
    "    # Z score and p value \n",
    "    z = mu_diff / se_diff\n",
    "    p_value = stats.norm.cdf(z)\n",
    "\n",
    "    print(f'Variable test entre: {mu_test - 2*se_test} y {mu_test + 2*se_test}')\n",
    "    print(f'Variable control entre: {mu_control - 2*se_control} y {mu_control + 2*se_control}')\n",
    "    print(f'Intervalo de confianza del efecto causal de ser test entre {mu_diff - 2*se_diff} y {mu_diff + 2*se_diff}')\n",
    "    print(f'Z score: {z}')\n",
    "    print(f'P value: {p_value}')\n",
    "    return\n",
    "\n",
    "    \n",
    "AB_test(online, face_to_face)"
   ]
  },
  {
   "cell_type": "code",
   "execution_count": null,
   "metadata": {},
   "outputs": [],
   "source": []
  }
 ],
 "metadata": {
  "kernelspec": {
   "display_name": "base",
   "language": "python",
   "name": "python3"
  },
  "language_info": {
   "codemirror_mode": {
    "name": "ipython",
    "version": 3
   },
   "file_extension": ".py",
   "mimetype": "text/x-python",
   "name": "python",
   "nbconvert_exporter": "python",
   "pygments_lexer": "ipython3",
   "version": "3.12.3"
  }
 },
 "nbformat": 4,
 "nbformat_minor": 4
}
