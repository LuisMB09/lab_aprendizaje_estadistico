{
 "cells": [
  {
   "cell_type": "markdown",
   "metadata": {
    "vscode": {
     "languageId": "plaintext"
    }
   },
   "source": [
    "## Notas examen"
   ]
  },
  {
   "cell_type": "markdown",
   "metadata": {},
   "source": [
    "## Cross-validation\n",
    "\n",
    "Dividir los datos en train y test. Esto para entrenar tu modelo con unos datos y probarlo en datos que no ha visto y ver que tan bueno fue. Es con el objetivo de evitar overfitting, o sea que el modelo pueda generalizar y no memorizar los datos.\n",
    "\n",
    "---\n",
    "\n",
    "## Teorema Frisch-Waugh-Lovell\n",
    "\n",
    "$$\n",
    "\\hat y = \\beta_0 + \\beta_1 x_1 + \\beta_2 x_2 + \\beta_3 x_3\n",
    "$$\n",
    "Esta es la regresión lineal original con todas las variables, y se busca encontrar el efecto causal de la variable $x_1$.\n",
    "\n",
    "$$\n",
    "\\hat y = \\theta_0 + \\theta_2 x_2 + \\theta_3 x_3\n",
    "$$\n",
    "Para ello haces la regresión lineal para $y$ sin utilizar $x_1$.\n",
    "\n",
    "$$\n",
    "y - \\hat y = \\text{residuales y}\n",
    "$$\n",
    "Y obtienes los residuales entre tu regresión sin $x_1$ y los valores reales de $y$. Estos residuales de $y$ es lo que no pueden explicar $x_2$ y $x_3$ de $y$.\n",
    "\n",
    "\n",
    "$$\n",
    "\\hat {x_1} = \\gamma_0 + \\gamma_2 x_2 + \\gamma_3 x_3\n",
    "$$\n",
    "Posteriormente realizas una regresión lineal para $x_1$ con las variables $x_2$ y $x_3$.\n",
    "\n",
    "$$\n",
    "x_1 - \\hat {x_1} = \\text{residuales x}\n",
    "$$\n",
    "Y calculas los residuales entre tu predicción de $\\hat {x_1}$ y $x_1$ real. Estos residuales de $x_1$ es lo que no pueden explicar  $x_2$ y $x_3$ de $x_1$\n",
    "\n",
    "$$\n",
    "y - \\hat y = \\beta_1(x_1 - \\hat {x_1})\n",
    "$$\n",
    "Por útlimo realizas un regresión de los residuales de $y$ contra los residuales de $x_1$, y la $B_1$ resultante es la misma que la $B_1$ de la regresión original, lo cual sería el efecto causal de $x_1$ sobre $y$."
   ]
  }
 ],
 "metadata": {
  "language_info": {
   "name": "python"
  }
 },
 "nbformat": 4,
 "nbformat_minor": 2
}
