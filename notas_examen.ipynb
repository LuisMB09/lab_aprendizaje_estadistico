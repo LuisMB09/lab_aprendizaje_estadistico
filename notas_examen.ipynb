{
 "cells": [
  {
   "cell_type": "markdown",
   "metadata": {
    "vscode": {
     "languageId": "plaintext"
    }
   },
   "source": [
    "## Notas examen"
   ]
  },
  {
   "cell_type": "markdown",
   "metadata": {},
   "source": [
    "## Cross-validation\n",
    "\n",
    "Dividir los datos en train y test. Esto para entrenar tu modelo con unos datos y probarlo en datos que no ha visto y ver que tan bueno fue. Es con el objetivo de evitar overfitting, o sea que el modelo pueda generalizar y no memorizar los datos.\n",
    "\n",
    "---\n",
    "\n",
    "## Teorema Frisch-Waugh-Lovell\n",
    "\n"
   ]
  }
 ],
 "metadata": {
  "language_info": {
   "name": "python"
  }
 },
 "nbformat": 4,
 "nbformat_minor": 2
}
