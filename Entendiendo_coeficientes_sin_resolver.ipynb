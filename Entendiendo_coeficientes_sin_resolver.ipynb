{
 "cells": [
  {
   "cell_type": "code",
   "execution_count": 1,
   "metadata": {},
   "outputs": [],
   "source": [
    "import pandas as pd\n",
    "import numpy as np\n",
    "import matplotlib.pyplot as plt\n",
    "import statsmodels.formula.api as smf\n",
    "\n",
    "import warnings\n",
    "warnings.filterwarnings('ignore')\n",
    "\n",
    "\n",
    "wage = pd.read_csv('wage.csv').dropna()\n",
    "wage['hwage'] = wage[\"wage\"]/wage[\"hours\"]"
   ]
  },
  {
   "cell_type": "markdown",
   "metadata": {},
   "source": [
    "Efecto de la educación en el salario (logaritmo)"
   ]
  },
  {
   "cell_type": "code",
   "execution_count": 4,
   "metadata": {},
   "outputs": [
    {
     "name": "stdout",
     "output_type": "stream",
     "text": [
      "                            OLS Regression Results                            \n",
      "==============================================================================\n",
      "Dep. Variable:          np.log(hwage)   R-squared:                       0.071\n",
      "Model:                            OLS   Adj. R-squared:                  0.070\n",
      "Method:                 Least Squares   F-statistic:                     50.61\n",
      "Date:                Tue, 11 Feb 2025   Prob (F-statistic):           2.94e-12\n",
      "Time:                        20:46:04   Log-Likelihood:                -384.23\n",
      "No. Observations:                 663   AIC:                             772.5\n",
      "Df Residuals:                     661   BIC:                             781.5\n",
      "Df Model:                           1                                         \n",
      "Covariance Type:            nonrobust                                         \n",
      "==============================================================================\n",
      "                 coef    std err          t      P>|t|      [0.025      0.975]\n",
      "------------------------------------------------------------------------------\n",
      "Intercept      2.3071      0.104     22.089      0.000       2.102       2.512\n",
      "educ           0.0536      0.008      7.114      0.000       0.039       0.068\n",
      "==============================================================================\n",
      "Omnibus:                       40.032   Durbin-Watson:                   1.861\n",
      "Prob(Omnibus):                  0.000   Jarque-Bera (JB):               55.412\n",
      "Skew:                          -0.502   Prob(JB):                     9.28e-13\n",
      "Kurtosis:                       3.999   Cond. No.                         86.6\n",
      "==============================================================================\n",
      "\n",
      "Notes:\n",
      "[1] Standard Errors assume that the covariance matrix of the errors is correctly specified.\n"
     ]
    }
   ],
   "source": [
    "model = smf.ols('np.log(hwage) ~ educ', data=wage).fit()\n",
    "print(model.summary())"
   ]
  },
  {
   "cell_type": "code",
   "execution_count": 3,
   "metadata": {},
   "outputs": [
    {
     "name": "stdout",
     "output_type": "stream",
     "text": [
      "                            OLS Regression Results                            \n",
      "==============================================================================\n",
      "Dep. Variable:                  hwage   R-squared:                       0.071\n",
      "Model:                            OLS   Adj. R-squared:                  0.070\n",
      "Method:                 Least Squares   F-statistic:                     50.73\n",
      "Date:                Tue, 11 Feb 2025   Prob (F-statistic):           2.78e-12\n",
      "Time:                        20:45:24   Log-Likelihood:                -2448.1\n",
      "No. Observations:                 663   AIC:                             4900.\n",
      "Df Residuals:                     661   BIC:                             4909.\n",
      "Df Model:                           1                                         \n",
      "Covariance Type:            nonrobust                                         \n",
      "==============================================================================\n",
      "                 coef    std err          t      P>|t|      [0.025      0.975]\n",
      "------------------------------------------------------------------------------\n",
      "Intercept      6.4811      2.349      2.759      0.006       1.869      11.093\n",
      "educ           1.2069      0.169      7.123      0.000       0.874       1.540\n",
      "==============================================================================\n",
      "Omnibus:                      234.716   Durbin-Watson:                   1.901\n",
      "Prob(Omnibus):                  0.000   Jarque-Bera (JB):             1589.857\n",
      "Skew:                           1.411   Prob(JB):                         0.00\n",
      "Kurtosis:                      10.042   Cond. No.                         86.6\n",
      "==============================================================================\n",
      "\n",
      "Notes:\n",
      "[1] Standard Errors assume that the covariance matrix of the errors is correctly specified.\n"
     ]
    }
   ],
   "source": [
    "model = smf.ols('hwage ~ educ', data=wage).fit()\n",
    "print(model.summary())"
   ]
  },
  {
   "cell_type": "markdown",
   "metadata": {},
   "source": [
    "Utiliza los demás controles"
   ]
  },
  {
   "cell_type": "code",
   "execution_count": 5,
   "metadata": {},
   "outputs": [],
   "source": [
    "controls = ['IQ', 'exper', 'tenure', 'age', 'married', 'black',\n",
    "            'south', 'urban', 'sibs', 'brthord', 'meduc', 'feduc']"
   ]
  },
  {
   "cell_type": "code",
   "execution_count": 6,
   "metadata": {},
   "outputs": [
    {
     "data": {
      "text/plain": [
       "'IQ+exper+tenure+age+married+black+south+urban+sibs+brthord+meduc+feduc'"
      ]
     },
     "execution_count": 6,
     "metadata": {},
     "output_type": "execute_result"
    }
   ],
   "source": [
    "'+'.join(controls)"
   ]
  },
  {
   "cell_type": "code",
   "execution_count": 7,
   "metadata": {},
   "outputs": [
    {
     "name": "stdout",
     "output_type": "stream",
     "text": [
      "                            OLS Regression Results                            \n",
      "==============================================================================\n",
      "Dep. Variable:          np.log(hwage)   R-squared:                       0.215\n",
      "Model:                            OLS   Adj. R-squared:                  0.199\n",
      "Method:                 Least Squares   F-statistic:                     13.66\n",
      "Date:                Tue, 11 Feb 2025   Prob (F-statistic):           4.43e-27\n",
      "Time:                        20:49:25   Log-Likelihood:                -328.52\n",
      "No. Observations:                 663   AIC:                             685.0\n",
      "Df Residuals:                     649   BIC:                             748.0\n",
      "Df Model:                          13                                         \n",
      "Covariance Type:            nonrobust                                         \n",
      "==============================================================================\n",
      "                 coef    std err          t      P>|t|      [0.025      0.975]\n",
      "------------------------------------------------------------------------------\n",
      "Intercept      1.1156      0.232      4.802      0.000       0.659       1.572\n",
      "educ           0.0411      0.010      4.075      0.000       0.021       0.061\n",
      "IQ             0.0038      0.001      2.794      0.005       0.001       0.006\n",
      "exper          0.0153      0.005      3.032      0.003       0.005       0.025\n",
      "tenure         0.0094      0.003      2.836      0.005       0.003       0.016\n",
      "age            0.0086      0.006      1.364      0.173      -0.004       0.021\n",
      "married        0.1795      0.053      3.415      0.001       0.076       0.283\n",
      "black         -0.0801      0.063     -1.263      0.207      -0.205       0.044\n",
      "south         -0.0397      0.035     -1.129      0.259      -0.109       0.029\n",
      "urban          0.1926      0.036      5.418      0.000       0.123       0.262\n",
      "sibs           0.0065      0.009      0.722      0.470      -0.011       0.024\n",
      "brthord       -0.0080      0.013     -0.604      0.546      -0.034       0.018\n",
      "meduc          0.0089      0.007      1.265      0.206      -0.005       0.023\n",
      "feduc          0.0069      0.006      1.113      0.266      -0.005       0.019\n",
      "==============================================================================\n",
      "Omnibus:                       53.456   Durbin-Watson:                   1.916\n",
      "Prob(Omnibus):                  0.000   Jarque-Bera (JB):              117.339\n",
      "Skew:                          -0.467   Prob(JB):                     3.31e-26\n",
      "Kurtosis:                       4.837   Cond. No.                     1.66e+03\n",
      "==============================================================================\n",
      "\n",
      "Notes:\n",
      "[1] Standard Errors assume that the covariance matrix of the errors is correctly specified.\n",
      "[2] The condition number is large, 1.66e+03. This might indicate that there are\n",
      "strong multicollinearity or other numerical problems.\n"
     ]
    }
   ],
   "source": [
    "model = smf.ols('np.log(hwage) ~ educ + ' + '+'.join(controls), data=wage).fit()\n",
    "print(model.summary())"
   ]
  },
  {
   "cell_type": "markdown",
   "metadata": {},
   "source": [
    "\n",
    "\n",
    "# Teorema de Frisch-Waugh-Lovell\n",
    "\n",
    "El **Teorema de Frisch-Waugh-Lovell** establece que en una regresión múltiple:\n",
    "\n",
    "$$\n",
    "Y = \\beta_0 + \\beta_1 X_1 + \\beta_2 X_2 + \\dots + \\beta_k X_k + \\epsilon\n",
    "$$\n",
    "\n",
    "el coeficiente $(\\beta_1$) puede obtenerse de manera equivalente en tres pasos:\n",
    "\n",
    "##  Paso 1: Regresión de $Y$ contra $(X_2, ..., X_k)$\n",
    "Regresamos $Y$ contra $(X_2, X_3, ..., X_k)$ y obtenemos los residuos $R_Y$:\n",
    "\n",
    "$$\n",
    "Y = \\gamma_0 + \\gamma_2 X_2 + \\dots + \\gamma_k X_k + R_Y\n",
    "$$\n",
    "\n",
    "Donde $R_Y$ representa la parte de $Y$ que *no* está explicada por $X_2, ..., X_k$.\n",
    "\n",
    "## Paso 2: Regresión de $X_1$ contra $(X_2, ..., X_k)$\n",
    "Regresamos $X_1$ contra $(X_2, X_3, ..., X_k)$ y obtenemos los residuos $R_{X_1}$:\n",
    "\n",
    "$$\n",
    "X_1 = \\delta_0 + \\delta_2 X_2 + \\dots + \\delta_k X_k + R_{X_1}\n",
    "$$\n",
    "\n",
    "Donde $R_{X_1}$ representa la parte de $X_1$ que no está explicada por $(X_2, ..., X_k)$.\n",
    "\n",
    "## Paso 3: Regresión de $R_Y$ contra $R_{X_1}$\n",
    "\n",
    "Finalmente, regresamos $R_Y$ contra $R_{X_1}$:\n",
    "\n",
    "$$\n",
    "R_Y = \\beta_1 R_{X_1} + \\nu\n",
    "$$\n",
    "\n",
    "El coeficiente $\\beta_1$ obtenido en esta regresión es **idéntico** al de la regresión original:\n",
    "\n",
    "$$\n",
    "Y = \\beta_0 + \\beta_1 X_1 + \\beta_2 X_2 + \\dots + \\beta_k X_k + \\epsilon\n",
    "$$\n",
    "\n",
    "## Conclusión  \n",
    "El teorema demuestra que el **efecto de $X_1$ sobre $Y$ ** se puede calcular sin necesidad de incluir todas las variables en una misma regresión, utilizando residuos de regresiones auxiliares.\n",
    "\n"
   ]
  },
  {
   "cell_type": "markdown",
   "metadata": {},
   "source": [
    "### Implementando el teorema "
   ]
  },
  {
   "cell_type": "markdown",
   "metadata": {},
   "source": [
    "### Parte 1\n",
    "\n",
    "Predice el salario a partir de todos los controles excepto por la educación"
   ]
  },
  {
   "cell_type": "code",
   "execution_count": 8,
   "metadata": {},
   "outputs": [],
   "source": [
    "m1 = smf.ols('np.log(hwage) ~' + '+'.join(controls), data=wage).fit()"
   ]
  },
  {
   "cell_type": "markdown",
   "metadata": {},
   "source": [
    "Obten los residuales, que es la parte del salario que no esta explicada por los controles"
   ]
  },
  {
   "cell_type": "code",
   "execution_count": 11,
   "metadata": {},
   "outputs": [],
   "source": [
    "# salario sin la educación\n",
    "residuales_1 = m1.resid"
   ]
  },
  {
   "cell_type": "markdown",
   "metadata": {},
   "source": [
    "### Parte 2\n",
    "\n",
    "Predice la educación a partir de los demás controles "
   ]
  },
  {
   "cell_type": "code",
   "execution_count": 12,
   "metadata": {},
   "outputs": [],
   "source": [
    "m2 = smf.ols('educ ~' + '+'.join(controls), data=wage).fit()"
   ]
  },
  {
   "cell_type": "markdown",
   "metadata": {},
   "source": [
    "Obten los residuales, que es la información que está en educación que no puede ser explicada por los controles"
   ]
  },
  {
   "cell_type": "code",
   "execution_count": 14,
   "metadata": {},
   "outputs": [
    {
     "data": {
      "text/plain": [
       "0     -0.351093\n",
       "2     -0.735607\n",
       "3     -0.852810\n",
       "4      0.037336\n",
       "6     -1.702272\n",
       "         ...   \n",
       "924    0.732417\n",
       "925   -0.864873\n",
       "928   -0.990416\n",
       "929    1.234177\n",
       "931    0.166371\n",
       "Length: 663, dtype: float64"
      ]
     },
     "execution_count": 14,
     "metadata": {},
     "output_type": "execute_result"
    }
   ],
   "source": [
    "residuales_2 = m2.resid\n",
    "residuales_2"
   ]
  },
  {
   "cell_type": "markdown",
   "metadata": {},
   "source": [
    "### Parte 3\n",
    "\n",
    "Crea un modelo que prediga los residuales del modelo 1 a partir de los residuales del modelo 2"
   ]
  },
  {
   "cell_type": "code",
   "execution_count": 16,
   "metadata": {},
   "outputs": [
    {
     "name": "stdout",
     "output_type": "stream",
     "text": [
      "                            OLS Regression Results                            \n",
      "==============================================================================\n",
      "Dep. Variable:                 resid1   R-squared:                       0.025\n",
      "Model:                            OLS   Adj. R-squared:                  0.023\n",
      "Method:                 Least Squares   F-statistic:                     16.91\n",
      "Date:                Tue, 11 Feb 2025   Prob (F-statistic):           4.41e-05\n",
      "Time:                        21:04:32   Log-Likelihood:                -328.52\n",
      "No. Observations:                 663   AIC:                             661.0\n",
      "Df Residuals:                     661   BIC:                             670.0\n",
      "Df Model:                           1                                         \n",
      "Covariance Type:            nonrobust                                         \n",
      "==============================================================================\n",
      "                 coef    std err          t      P>|t|      [0.025      0.975]\n",
      "------------------------------------------------------------------------------\n",
      "Intercept   1.883e-14      0.015   1.22e-12      1.000      -0.030       0.030\n",
      "resid2         0.0411      0.010      4.112      0.000       0.021       0.061\n",
      "==============================================================================\n",
      "Omnibus:                       53.456   Durbin-Watson:                   1.916\n",
      "Prob(Omnibus):                  0.000   Jarque-Bera (JB):              117.339\n",
      "Skew:                          -0.467   Prob(JB):                     3.31e-26\n",
      "Kurtosis:                       4.837   Cond. No.                         1.54\n",
      "==============================================================================\n",
      "\n",
      "Notes:\n",
      "[1] Standard Errors assume that the covariance matrix of the errors is correctly specified.\n"
     ]
    }
   ],
   "source": [
    "modelo = smf.ols('resid1 ~resid2', data=wage.assign(resid1=residuales_1, resid2=residuales_2)).fit()\n",
    "print(modelo.summary())"
   ]
  },
  {
   "cell_type": "markdown",
   "metadata": {},
   "source": [
    "Esto tiene que ser *exactamente igual* que predecir con todos \n",
    "\n",
    "\n",
    "¿Por qué esto es importante?\n",
    "\n",
    "*quiere decir que cuando hacemos una regresión, el coeficiente $\\beta_1$ es el efecto de $x_1$ tomando en cuenta toda la información contenida en los demás coeficientes*\n",
    "\n",
    "¿Por qué esto es importante?\n",
    "\n",
    "Quiere decir que si hacemos una regresión y usamos todos los controles, podemos aislar el efecto particular de cualquier tratamiento, siempre y cuando se usen los controles pertinentes. \n"
   ]
  },
  {
   "cell_type": "markdown",
   "metadata": {},
   "source": [
    "### Ejemplo de data en el mundo real"
   ]
  },
  {
   "cell_type": "markdown",
   "metadata": {},
   "source": [
    "\n",
    "Tenemos las ventas de una tienda de helados.\n",
    "\n",
    "El vendedor de helados quiere cobrar siempre lo más que pueda pero hay una intuición obvia. \n",
    "\n",
    "*Si cobro muy caro, nadie va venir*\n",
    "\n",
    "Contrata a un Data Scientist para que le ayude a entender cuanto cobrar.\n",
    "\n",
    "Primer paso, regresión lineal"
   ]
  },
  {
   "cell_type": "code",
   "execution_count": 17,
   "metadata": {},
   "outputs": [],
   "source": [
    "df = pd.read_csv('ice_cream_sales.csv')"
   ]
  },
  {
   "cell_type": "code",
   "execution_count": 18,
   "metadata": {},
   "outputs": [
    {
     "data": {
      "text/html": [
       "<div>\n",
       "<style scoped>\n",
       "    .dataframe tbody tr th:only-of-type {\n",
       "        vertical-align: middle;\n",
       "    }\n",
       "\n",
       "    .dataframe tbody tr th {\n",
       "        vertical-align: top;\n",
       "    }\n",
       "\n",
       "    .dataframe thead th {\n",
       "        text-align: right;\n",
       "    }\n",
       "</style>\n",
       "<table border=\"1\" class=\"dataframe\">\n",
       "  <thead>\n",
       "    <tr style=\"text-align: right;\">\n",
       "      <th></th>\n",
       "      <th>temp</th>\n",
       "      <th>weekday</th>\n",
       "      <th>cost</th>\n",
       "      <th>price</th>\n",
       "      <th>sales</th>\n",
       "    </tr>\n",
       "  </thead>\n",
       "  <tbody>\n",
       "    <tr>\n",
       "      <th>0</th>\n",
       "      <td>17.3</td>\n",
       "      <td>6</td>\n",
       "      <td>1.5</td>\n",
       "      <td>5.6</td>\n",
       "      <td>173</td>\n",
       "    </tr>\n",
       "    <tr>\n",
       "      <th>1</th>\n",
       "      <td>25.4</td>\n",
       "      <td>3</td>\n",
       "      <td>0.3</td>\n",
       "      <td>4.9</td>\n",
       "      <td>196</td>\n",
       "    </tr>\n",
       "    <tr>\n",
       "      <th>2</th>\n",
       "      <td>23.3</td>\n",
       "      <td>5</td>\n",
       "      <td>1.5</td>\n",
       "      <td>7.6</td>\n",
       "      <td>207</td>\n",
       "    </tr>\n",
       "    <tr>\n",
       "      <th>3</th>\n",
       "      <td>26.9</td>\n",
       "      <td>1</td>\n",
       "      <td>0.3</td>\n",
       "      <td>5.3</td>\n",
       "      <td>241</td>\n",
       "    </tr>\n",
       "    <tr>\n",
       "      <th>4</th>\n",
       "      <td>20.2</td>\n",
       "      <td>1</td>\n",
       "      <td>1.0</td>\n",
       "      <td>7.2</td>\n",
       "      <td>227</td>\n",
       "    </tr>\n",
       "    <tr>\n",
       "      <th>...</th>\n",
       "      <td>...</td>\n",
       "      <td>...</td>\n",
       "      <td>...</td>\n",
       "      <td>...</td>\n",
       "      <td>...</td>\n",
       "    </tr>\n",
       "    <tr>\n",
       "      <th>9995</th>\n",
       "      <td>24.1</td>\n",
       "      <td>5</td>\n",
       "      <td>0.3</td>\n",
       "      <td>5.7</td>\n",
       "      <td>184</td>\n",
       "    </tr>\n",
       "    <tr>\n",
       "      <th>9996</th>\n",
       "      <td>26.1</td>\n",
       "      <td>2</td>\n",
       "      <td>0.3</td>\n",
       "      <td>5.3</td>\n",
       "      <td>191</td>\n",
       "    </tr>\n",
       "    <tr>\n",
       "      <th>9997</th>\n",
       "      <td>22.0</td>\n",
       "      <td>6</td>\n",
       "      <td>0.3</td>\n",
       "      <td>5.2</td>\n",
       "      <td>171</td>\n",
       "    </tr>\n",
       "    <tr>\n",
       "      <th>9998</th>\n",
       "      <td>21.9</td>\n",
       "      <td>1</td>\n",
       "      <td>1.0</td>\n",
       "      <td>7.5</td>\n",
       "      <td>214</td>\n",
       "    </tr>\n",
       "    <tr>\n",
       "      <th>9999</th>\n",
       "      <td>20.0</td>\n",
       "      <td>7</td>\n",
       "      <td>0.5</td>\n",
       "      <td>5.9</td>\n",
       "      <td>237</td>\n",
       "    </tr>\n",
       "  </tbody>\n",
       "</table>\n",
       "<p>10000 rows × 5 columns</p>\n",
       "</div>"
      ],
      "text/plain": [
       "      temp  weekday  cost  price  sales\n",
       "0     17.3        6   1.5    5.6    173\n",
       "1     25.4        3   0.3    4.9    196\n",
       "2     23.3        5   1.5    7.6    207\n",
       "3     26.9        1   0.3    5.3    241\n",
       "4     20.2        1   1.0    7.2    227\n",
       "...    ...      ...   ...    ...    ...\n",
       "9995  24.1        5   0.3    5.7    184\n",
       "9996  26.1        2   0.3    5.3    191\n",
       "9997  22.0        6   0.3    5.2    171\n",
       "9998  21.9        1   1.0    7.5    214\n",
       "9999  20.0        7   0.5    5.9    237\n",
       "\n",
       "[10000 rows x 5 columns]"
      ]
     },
     "execution_count": 18,
     "metadata": {},
     "output_type": "execute_result"
    }
   ],
   "source": [
    "df"
   ]
  },
  {
   "cell_type": "markdown",
   "metadata": {},
   "source": [
    "Esto suena absurdo, ¿como es posible que a mayor precio, más ventas?\n",
    "\n",
    "Bivariado de las ventas\n",
    "\n",
    "pd.qcut(df_calibracion['predicciones'], q=5, labels=False, duplicates='drop')"
   ]
  },
  {
   "cell_type": "code",
   "execution_count": 19,
   "metadata": {},
   "outputs": [
    {
     "data": {
      "text/plain": [
       "<matplotlib.collections.PathCollection at 0x1767cf200>"
      ]
     },
     "execution_count": 19,
     "metadata": {},
     "output_type": "execute_result"
    },
    {
     "data": {
      "image/png": "[encoded data removed]",
      "text/plain": [
       "<Figure size 640x480 with 1 Axes>"
      ]
     },
     "metadata": {},
     "output_type": "display_data"
    }
   ],
   "source": [
    "plt.scatter(df['price'], df['sales'])"
   ]
  },
  {
   "cell_type": "code",
   "execution_count": 20,
   "metadata": {},
   "outputs": [
    {
     "data": {
      "text/html": [
       "<div>\n",
       "<style scoped>\n",
       "    .dataframe tbody tr th:only-of-type {\n",
       "        vertical-align: middle;\n",
       "    }\n",
       "\n",
       "    .dataframe tbody tr th {\n",
       "        vertical-align: top;\n",
       "    }\n",
       "\n",
       "    .dataframe thead th {\n",
       "        text-align: right;\n",
       "    }\n",
       "</style>\n",
       "<table border=\"1\" class=\"dataframe\">\n",
       "  <thead>\n",
       "    <tr style=\"text-align: right;\">\n",
       "      <th></th>\n",
       "      <th>temp</th>\n",
       "      <th>weekday</th>\n",
       "      <th>cost</th>\n",
       "      <th>price</th>\n",
       "      <th>sales</th>\n",
       "    </tr>\n",
       "  </thead>\n",
       "  <tbody>\n",
       "    <tr>\n",
       "      <th>temp</th>\n",
       "      <td>1.000000</td>\n",
       "      <td>-0.006214</td>\n",
       "      <td>0.000027</td>\n",
       "      <td>-0.003644</td>\n",
       "      <td>0.375951</td>\n",
       "    </tr>\n",
       "    <tr>\n",
       "      <th>weekday</th>\n",
       "      <td>-0.006214</td>\n",
       "      <td>1.000000</td>\n",
       "      <td>0.009161</td>\n",
       "      <td>0.004559</td>\n",
       "      <td>0.011888</td>\n",
       "    </tr>\n",
       "    <tr>\n",
       "      <th>cost</th>\n",
       "      <td>0.000027</td>\n",
       "      <td>0.009161</td>\n",
       "      <td>1.000000</td>\n",
       "      <td>0.390435</td>\n",
       "      <td>-0.015494</td>\n",
       "    </tr>\n",
       "    <tr>\n",
       "      <th>price</th>\n",
       "      <td>-0.003644</td>\n",
       "      <td>0.004559</td>\n",
       "      <td>0.390435</td>\n",
       "      <td>1.000000</td>\n",
       "      <td>0.075544</td>\n",
       "    </tr>\n",
       "    <tr>\n",
       "      <th>sales</th>\n",
       "      <td>0.375951</td>\n",
       "      <td>0.011888</td>\n",
       "      <td>-0.015494</td>\n",
       "      <td>0.075544</td>\n",
       "      <td>1.000000</td>\n",
       "    </tr>\n",
       "  </tbody>\n",
       "</table>\n",
       "</div>"
      ],
      "text/plain": [
       "             temp   weekday      cost     price     sales\n",
       "temp     1.000000 -0.006214  0.000027 -0.003644  0.375951\n",
       "weekday -0.006214  1.000000  0.009161  0.004559  0.011888\n",
       "cost     0.000027  0.009161  1.000000  0.390435 -0.015494\n",
       "price   -0.003644  0.004559  0.390435  1.000000  0.075544\n",
       "sales    0.375951  0.011888 -0.015494  0.075544  1.000000"
      ]
     },
     "execution_count": 20,
     "metadata": {},
     "output_type": "execute_result"
    }
   ],
   "source": [
    "df.corr()"
   ]
  },
  {
   "cell_type": "code",
   "execution_count": 22,
   "metadata": {},
   "outputs": [
    {
     "data": {
      "image/png": "[encoded data removed]",
      "text/plain": [
       "<Figure size 640x480 with 1 Axes>"
      ]
     },
     "metadata": {},
     "output_type": "display_data"
    }
   ],
   "source": [
    "df['bin_price'] = pd.qcut(df['price'], q=5, labels=False, duplicates='drop')\n",
    "grouped = df.groupby('bin_price').mean()\n",
    "plt.plot(grouped['price'], grouped['sales'], marker='o');"
   ]
  },
  {
   "cell_type": "code",
   "execution_count": 23,
   "metadata": {},
   "outputs": [
    {
     "name": "stdout",
     "output_type": "stream",
     "text": [
      "                            OLS Regression Results                            \n",
      "==============================================================================\n",
      "Dep. Variable:                  sales   R-squared:                       0.006\n",
      "Model:                            OLS   Adj. R-squared:                  0.006\n",
      "Method:                 Least Squares   F-statistic:                     57.38\n",
      "Date:                Tue, 11 Feb 2025   Prob (F-statistic):           3.90e-14\n",
      "Time:                        21:10:43   Log-Likelihood:                -43825.\n",
      "No. Observations:               10000   AIC:                         8.765e+04\n",
      "Df Residuals:                    9998   BIC:                         8.767e+04\n",
      "Df Model:                           1                                         \n",
      "Covariance Type:            nonrobust                                         \n",
      "==============================================================================\n",
      "                 coef    std err          t      P>|t|      [0.025      0.975]\n",
      "------------------------------------------------------------------------------\n",
      "Intercept    192.9679      1.013    190.414      0.000     190.981     194.954\n",
      "price          1.2294      0.162      7.575      0.000       0.911       1.547\n",
      "==============================================================================\n",
      "Omnibus:                      358.846   Durbin-Watson:                   1.921\n",
      "Prob(Omnibus):                  0.000   Jarque-Bera (JB):              386.327\n",
      "Skew:                           0.467   Prob(JB):                     1.29e-84\n",
      "Kurtosis:                       2.769   Cond. No.                         33.5\n",
      "==============================================================================\n",
      "\n",
      "Notes:\n",
      "[1] Standard Errors assume that the covariance matrix of the errors is correctly specified.\n"
     ]
    }
   ],
   "source": [
    "model = smf.ols('sales ~ price', data=df).fit()\n",
    "print(model.summary())"
   ]
  },
  {
   "cell_type": "markdown",
   "metadata": {},
   "source": [
    "Efectiamente, según los datos a mayor precio, mayor venta.\n",
    "\n",
    "\n",
    "Pasa que los vendedores no son tontos, algunos días donde es feriado o que hace mucho calor suben el precio ... y es justamente donde se vende más.\n",
    "\n",
    "Podemos usar una regrsion linal _controlando por esos factores_.\n"
   ]
  },
  {
   "cell_type": "code",
   "execution_count": 24,
   "metadata": {},
   "outputs": [
    {
     "name": "stdout",
     "output_type": "stream",
     "text": [
      "                            OLS Regression Results                            \n",
      "==============================================================================\n",
      "Dep. Variable:                  sales   R-squared:                       0.676\n",
      "Model:                            OLS   Adj. R-squared:                  0.676\n",
      "Method:                 Least Squares   F-statistic:                     2315.\n",
      "Date:                Tue, 11 Feb 2025   Prob (F-statistic):               0.00\n",
      "Time:                        21:12:33   Log-Likelihood:                -38220.\n",
      "No. Observations:               10000   AIC:                         7.646e+04\n",
      "Df Residuals:                    9990   BIC:                         7.653e+04\n",
      "Df Model:                           9                                         \n",
      "Covariance Type:            nonrobust                                         \n",
      "===================================================================================\n",
      "                      coef    std err          t      P>|t|      [0.025      0.975]\n",
      "-----------------------------------------------------------------------------------\n",
      "Intercept         201.9694      1.004    201.146      0.000     200.001     203.938\n",
      "C(weekday)[T.2]   -33.8632      0.421    -80.432      0.000     -34.688     -33.038\n",
      "C(weekday)[T.3]   -33.5465      0.429    -78.287      0.000     -34.386     -32.707\n",
      "C(weekday)[T.4]   -33.5294      0.427    -78.441      0.000     -34.367     -32.692\n",
      "C(weekday)[T.5]   -33.4590      0.424    -78.856      0.000     -34.291     -32.627\n",
      "C(weekday)[T.6]   -33.4199      0.430    -77.660      0.000     -34.263     -32.576\n",
      "C(weekday)[T.7]     0.3086      0.408      0.757      0.449      -0.491       1.108\n",
      "price              -4.0004      0.110    -36.413      0.000      -4.216      -3.785\n",
      "temp                1.8331      0.028     65.779      0.000       1.778       1.888\n",
      "cost                3.2659      0.264     12.366      0.000       2.748       3.784\n",
      "==============================================================================\n",
      "Omnibus:                      622.825   Durbin-Watson:                   1.977\n",
      "Prob(Omnibus):                  0.000   Jarque-Bera (JB):             1842.406\n",
      "Skew:                          -0.312   Prob(JB):                         0.00\n",
      "Kurtosis:                       5.008   Cond. No.                         252.\n",
      "==============================================================================\n",
      "\n",
      "Notes:\n",
      "[1] Standard Errors assume that the covariance matrix of the errors is correctly specified.\n"
     ]
    }
   ],
   "source": [
    "model = smf.ols('sales ~ price + C(weekday) + temp + cost', data=df).fit()\n",
    "print(model.summary())  "
   ]
  },
  {
   "cell_type": "markdown",
   "metadata": {},
   "source": [
    "Aqui ya podemos ver que el precio tiene un coeficiente negativo, dejando todo lo demás igual si sube el precio las ventas caen "
   ]
  },
  {
   "cell_type": "markdown",
   "metadata": {},
   "source": [
    "### Aplicando el teorema de Teorema de Frisch-Waugh-Lovell"
   ]
  },
  {
   "cell_type": "code",
   "execution_count": 27,
   "metadata": {},
   "outputs": [
    {
     "name": "stdout",
     "output_type": "stream",
     "text": [
      "                            OLS Regression Results                            \n",
      "==============================================================================\n",
      "Dep. Variable:            sales_resid   R-squared:                       0.117\n",
      "Model:                            OLS   Adj. R-squared:                  0.117\n",
      "Method:                 Least Squares   F-statistic:                     1327.\n",
      "Date:                Tue, 11 Feb 2025   Prob (F-statistic):          6.29e-273\n",
      "Time:                        21:15:52   Log-Likelihood:                -38220.\n",
      "No. Observations:               10000   AIC:                         7.644e+04\n",
      "Df Residuals:                    9998   BIC:                         7.646e+04\n",
      "Df Model:                           1                                         \n",
      "Covariance Type:            nonrobust                                         \n",
      "===============================================================================\n",
      "                  coef    std err          t      P>|t|      [0.025      0.975]\n",
      "-------------------------------------------------------------------------------\n",
      "Intercept   -4.843e-13      0.111  -4.38e-12      1.000      -0.217       0.217\n",
      "price_resid    -4.0004      0.110    -36.428      0.000      -4.216      -3.785\n",
      "==============================================================================\n",
      "Omnibus:                      622.825   Durbin-Watson:                   1.977\n",
      "Prob(Omnibus):                  0.000   Jarque-Bera (JB):             1842.406\n",
      "Skew:                          -0.312   Prob(JB):                         0.00\n",
      "Kurtosis:                       5.008   Cond. No.                         1.01\n",
      "==============================================================================\n",
      "\n",
      "Notes:\n",
      "[1] Standard Errors assume that the covariance matrix of the errors is correctly specified.\n"
     ]
    }
   ],
   "source": [
    "m1 = smf.ols('sales ~ C(weekday) + temp + cost', data=df).fit()\n",
    "m2 = smf.ols('price ~ C(weekday) + temp + cost', data=df).fit()\n",
    "m3 = smf.ols('sales_resid ~ price_resid', data=df.assign(sales_resid=m1.resid, price_resid=m2.resid)).fit()\n",
    "print(m3.summary())"
   ]
  },
  {
   "cell_type": "markdown",
   "metadata": {},
   "source": [
    "### Caso 2\n",
    "\n",
    "¿Qué tan buena es una medicina?"
   ]
  },
  {
   "cell_type": "code",
   "execution_count": 28,
   "metadata": {},
   "outputs": [],
   "source": [
    "hospital = pd.read_csv('hospital_treatment.csv')"
   ]
  },
  {
   "cell_type": "code",
   "execution_count": 29,
   "metadata": {},
   "outputs": [
    {
     "data": {
      "text/html": [
       "<div>\n",
       "<style scoped>\n",
       "    .dataframe tbody tr th:only-of-type {\n",
       "        vertical-align: middle;\n",
       "    }\n",
       "\n",
       "    .dataframe tbody tr th {\n",
       "        vertical-align: top;\n",
       "    }\n",
       "\n",
       "    .dataframe thead th {\n",
       "        text-align: right;\n",
       "    }\n",
       "</style>\n",
       "<table border=\"1\" class=\"dataframe\">\n",
       "  <thead>\n",
       "    <tr style=\"text-align: right;\">\n",
       "      <th></th>\n",
       "      <th>hospital</th>\n",
       "      <th>treatment</th>\n",
       "      <th>severity</th>\n",
       "      <th>days</th>\n",
       "    </tr>\n",
       "  </thead>\n",
       "  <tbody>\n",
       "    <tr>\n",
       "      <th>0</th>\n",
       "      <td>1</td>\n",
       "      <td>1</td>\n",
       "      <td>29.686618</td>\n",
       "      <td>82</td>\n",
       "    </tr>\n",
       "    <tr>\n",
       "      <th>1</th>\n",
       "      <td>1</td>\n",
       "      <td>1</td>\n",
       "      <td>20.050340</td>\n",
       "      <td>57</td>\n",
       "    </tr>\n",
       "    <tr>\n",
       "      <th>2</th>\n",
       "      <td>1</td>\n",
       "      <td>1</td>\n",
       "      <td>20.302399</td>\n",
       "      <td>49</td>\n",
       "    </tr>\n",
       "    <tr>\n",
       "      <th>3</th>\n",
       "      <td>0</td>\n",
       "      <td>0</td>\n",
       "      <td>10.603118</td>\n",
       "      <td>44</td>\n",
       "    </tr>\n",
       "    <tr>\n",
       "      <th>4</th>\n",
       "      <td>0</td>\n",
       "      <td>0</td>\n",
       "      <td>8.332793</td>\n",
       "      <td>15</td>\n",
       "    </tr>\n",
       "    <tr>\n",
       "      <th>...</th>\n",
       "      <td>...</td>\n",
       "      <td>...</td>\n",
       "      <td>...</td>\n",
       "      <td>...</td>\n",
       "    </tr>\n",
       "    <tr>\n",
       "      <th>75</th>\n",
       "      <td>1</td>\n",
       "      <td>1</td>\n",
       "      <td>18.879462</td>\n",
       "      <td>41</td>\n",
       "    </tr>\n",
       "    <tr>\n",
       "      <th>76</th>\n",
       "      <td>1</td>\n",
       "      <td>1</td>\n",
       "      <td>22.497424</td>\n",
       "      <td>41</td>\n",
       "    </tr>\n",
       "    <tr>\n",
       "      <th>77</th>\n",
       "      <td>0</td>\n",
       "      <td>0</td>\n",
       "      <td>2.902651</td>\n",
       "      <td>27</td>\n",
       "    </tr>\n",
       "    <tr>\n",
       "      <th>78</th>\n",
       "      <td>1</td>\n",
       "      <td>1</td>\n",
       "      <td>24.634592</td>\n",
       "      <td>39</td>\n",
       "    </tr>\n",
       "    <tr>\n",
       "      <th>79</th>\n",
       "      <td>1</td>\n",
       "      <td>1</td>\n",
       "      <td>16.183498</td>\n",
       "      <td>41</td>\n",
       "    </tr>\n",
       "  </tbody>\n",
       "</table>\n",
       "<p>80 rows × 4 columns</p>\n",
       "</div>"
      ],
      "text/plain": [
       "    hospital  treatment   severity  days\n",
       "0          1          1  29.686618    82\n",
       "1          1          1  20.050340    57\n",
       "2          1          1  20.302399    49\n",
       "3          0          0  10.603118    44\n",
       "4          0          0   8.332793    15\n",
       "..       ...        ...        ...   ...\n",
       "75         1          1  18.879462    41\n",
       "76         1          1  22.497424    41\n",
       "77         0          0   2.902651    27\n",
       "78         1          1  24.634592    39\n",
       "79         1          1  16.183498    41\n",
       "\n",
       "[80 rows x 4 columns]"
      ]
     },
     "execution_count": 29,
     "metadata": {},
     "output_type": "execute_result"
    }
   ],
   "source": [
    "hospital"
   ]
  },
  {
   "cell_type": "markdown",
   "metadata": {},
   "source": [
    "Regresion días y treatment"
   ]
  },
  {
   "cell_type": "code",
   "execution_count": 30,
   "metadata": {},
   "outputs": [
    {
     "name": "stdout",
     "output_type": "stream",
     "text": [
      "                            OLS Regression Results                            \n",
      "==============================================================================\n",
      "Dep. Variable:                   days   R-squared:                       0.185\n",
      "Model:                            OLS   Adj. R-squared:                  0.174\n",
      "Method:                 Least Squares   F-statistic:                     17.67\n",
      "Date:                Tue, 11 Feb 2025   Prob (F-statistic):           6.93e-05\n",
      "Time:                        21:21:02   Log-Likelihood:                -326.87\n",
      "No. Observations:                  80   AIC:                             657.7\n",
      "Df Residuals:                      78   BIC:                             662.5\n",
      "Df Model:                           1                                         \n",
      "Covariance Type:            nonrobust                                         \n",
      "==============================================================================\n",
      "                 coef    std err          t      P>|t|      [0.025      0.975]\n",
      "------------------------------------------------------------------------------\n",
      "Intercept     33.2667      2.662     12.498      0.000      27.968      38.566\n",
      "treatment     14.1533      3.367      4.204      0.000       7.451      20.856\n",
      "==============================================================================\n",
      "Omnibus:                        0.186   Durbin-Watson:                   1.690\n",
      "Prob(Omnibus):                  0.911   Jarque-Bera (JB):                0.050\n",
      "Skew:                           0.061   Prob(JB):                        0.975\n",
      "Kurtosis:                       3.003   Cond. No.                         3.03\n",
      "==============================================================================\n",
      "\n",
      "Notes:\n",
      "[1] Standard Errors assume that the covariance matrix of the errors is correctly specified.\n"
     ]
    }
   ],
   "source": [
    "model = smf.ols('days ~treatment', data=hospital).fit()\n",
    "print(model.summary())"
   ]
  },
  {
   "cell_type": "markdown",
   "metadata": {},
   "source": [
    "De entrada, parece que la medicina hace que los pacientes duren _más días en el hospital_\n",
    "\n",
    "\n",
    "Pero ...\n",
    "\n",
    "En realidad esta medicina se le da a los pacientes que están muy muy mal, aquí hay un sesgo en los datos.\n",
    "\n",
    "Afortunadamente podemos controlar por severidad"
   ]
  },
  {
   "cell_type": "code",
   "execution_count": 31,
   "metadata": {},
   "outputs": [
    {
     "name": "stdout",
     "output_type": "stream",
     "text": [
      "                            OLS Regression Results                            \n",
      "==============================================================================\n",
      "Dep. Variable:                   days   R-squared:                       0.788\n",
      "Model:                            OLS   Adj. R-squared:                  0.782\n",
      "Method:                 Least Squares   F-statistic:                     142.9\n",
      "Date:                Tue, 11 Feb 2025   Prob (F-statistic):           1.20e-26\n",
      "Time:                        21:22:31   Log-Likelihood:                -273.03\n",
      "No. Observations:                  80   AIC:                             552.1\n",
      "Df Residuals:                      77   BIC:                             559.2\n",
      "Df Model:                           2                                         \n",
      "Covariance Type:            nonrobust                                         \n",
      "==============================================================================\n",
      "                 coef    std err          t      P>|t|      [0.025      0.975]\n",
      "------------------------------------------------------------------------------\n",
      "Intercept     11.6641      2.000      5.832      0.000       7.681      15.647\n",
      "treatment     -7.5912      2.269     -3.345      0.001     -12.110      -3.073\n",
      "severity       2.2741      0.154     14.793      0.000       1.968       2.580\n",
      "==============================================================================\n",
      "Omnibus:                        3.858   Durbin-Watson:                   2.197\n",
      "Prob(Omnibus):                  0.145   Jarque-Bera (JB):                3.835\n",
      "Skew:                          -0.516   Prob(JB):                        0.147\n",
      "Kurtosis:                       2.708   Cond. No.                         46.7\n",
      "==============================================================================\n",
      "\n",
      "Notes:\n",
      "[1] Standard Errors assume that the covariance matrix of the errors is correctly specified.\n"
     ]
    }
   ],
   "source": [
    "model = smf.ols('days ~treatment + severity', data=hospital).fit()\n",
    "print(model.summary())"
   ]
  },
  {
   "cell_type": "markdown",
   "metadata": {},
   "source": [
    "Ahora la medicina parece que si tiene buen efecto \n",
    "\n",
    "Pasa que también depende mucho de los hopspitales, hay hospitales que tienen más pacientes con severidad"
   ]
  },
  {
   "cell_type": "code",
   "execution_count": 32,
   "metadata": {},
   "outputs": [
    {
     "data": {
      "text/html": [
       "<div>\n",
       "<style scoped>\n",
       "    .dataframe tbody tr th:only-of-type {\n",
       "        vertical-align: middle;\n",
       "    }\n",
       "\n",
       "    .dataframe tbody tr th {\n",
       "        vertical-align: top;\n",
       "    }\n",
       "\n",
       "    .dataframe thead th {\n",
       "        text-align: right;\n",
       "    }\n",
       "</style>\n",
       "<table border=\"1\" class=\"dataframe\">\n",
       "  <thead>\n",
       "    <tr style=\"text-align: right;\">\n",
       "      <th></th>\n",
       "      <th>treatment</th>\n",
       "      <th>severity</th>\n",
       "      <th>days</th>\n",
       "    </tr>\n",
       "    <tr>\n",
       "      <th>hospital</th>\n",
       "      <th></th>\n",
       "      <th></th>\n",
       "      <th></th>\n",
       "    </tr>\n",
       "  </thead>\n",
       "  <tbody>\n",
       "    <tr>\n",
       "      <th>0</th>\n",
       "      <td>0.068966</td>\n",
       "      <td>7.944987</td>\n",
       "      <td>29.620690</td>\n",
       "    </tr>\n",
       "    <tr>\n",
       "      <th>1</th>\n",
       "      <td>0.941176</td>\n",
       "      <td>19.757954</td>\n",
       "      <td>49.215686</td>\n",
       "    </tr>\n",
       "  </tbody>\n",
       "</table>\n",
       "</div>"
      ],
      "text/plain": [
       "          treatment   severity       days\n",
       "hospital                                 \n",
       "0          0.068966   7.944987  29.620690\n",
       "1          0.941176  19.757954  49.215686"
      ]
     },
     "execution_count": 32,
     "metadata": {},
     "output_type": "execute_result"
    }
   ],
   "source": [
    "# Group by hospital\n",
    "hospital.groupby('hospital').mean()"
   ]
  },
  {
   "cell_type": "markdown",
   "metadata": {},
   "source": [
    "Pues hago un modelo que tenga todo, de una vez ... no puede ser malo-"
   ]
  },
  {
   "cell_type": "code",
   "execution_count": 33,
   "metadata": {},
   "outputs": [
    {
     "name": "stdout",
     "output_type": "stream",
     "text": [
      "                            OLS Regression Results                            \n",
      "==============================================================================\n",
      "Dep. Variable:                   days   R-squared:                       0.790\n",
      "Model:                            OLS   Adj. R-squared:                  0.782\n",
      "Method:                 Least Squares   F-statistic:                     95.44\n",
      "Date:                Tue, 11 Feb 2025   Prob (F-statistic):           1.05e-25\n",
      "Time:                        21:24:39   Log-Likelihood:                -272.56\n",
      "No. Observations:                  80   AIC:                             553.1\n",
      "Df Residuals:                      76   BIC:                             562.7\n",
      "Df Model:                           3                                         \n",
      "Covariance Type:            nonrobust                                         \n",
      "==============================================================================\n",
      "                 coef    std err          t      P>|t|      [0.025      0.975]\n",
      "------------------------------------------------------------------------------\n",
      "Intercept     11.0111      2.118      5.198      0.000       6.792      15.230\n",
      "treatment     -5.0945      3.492     -1.459      0.149     -12.049       1.861\n",
      "severity       2.3865      0.195     12.251      0.000       1.999       2.774\n",
      "hospital      -4.1535      4.413     -0.941      0.350     -12.943       4.636\n",
      "==============================================================================\n",
      "Omnibus:                        3.834   Durbin-Watson:                   2.177\n",
      "Prob(Omnibus):                  0.147   Jarque-Bera (JB):                3.723\n",
      "Skew:                          -0.521   Prob(JB):                        0.155\n",
      "Kurtosis:                       2.829   Cond. No.                         109.\n",
      "==============================================================================\n",
      "\n",
      "Notes:\n",
      "[1] Standard Errors assume that the covariance matrix of the errors is correctly specified.\n"
     ]
    }
   ],
   "source": [
    "model = smf.ols('days ~treatment + severity + hospital', data=hospital).fit()\n",
    "print(model.summary())"
   ]
  },
  {
   "cell_type": "markdown",
   "metadata": {},
   "source": [
    "El tratamiento tiene un p-value no significativo, ¿qué está pasando?\n",
    "\n",
    "\n",
    "Recordar la formula del error estadard en una regresión:\n",
    "\n",
    "\n",
    "$$\\sigma^2 = \\frac{\\Sigma (y_i - \\hat{y})^2}{n}$$\n",
    "\n",
    "$$SE(\\beta) = \\sqrt{\\frac{\\sigma^2}{\\Sigma (x - E[X])^2}} $$\n",
    "\n",
    "Si la varianza de X es muy baja, el error estandard será *mayor*\n",
    "\n",
    "\n",
    "¿Cómo es que la varianza de el tratamiento puede bajar en este caso?\n",
    "\n",
    "A la hora de aplicar el Teorema de Frisch-Waugh-Lovel el hospital puede predecir la severidad, los residuales serán más pequeños y le predicción del efecto se ve afectada.\n"
   ]
  },
  {
   "cell_type": "code",
   "execution_count": 34,
   "metadata": {},
   "outputs": [
    {
     "name": "stdout",
     "output_type": "stream",
     "text": [
      "                            OLS Regression Results                            \n",
      "==============================================================================\n",
      "Dep. Variable:             days_resid   R-squared:                       0.027\n",
      "Model:                            OLS   Adj. R-squared:                  0.015\n",
      "Method:                 Least Squares   F-statistic:                     2.184\n",
      "Date:                Tue, 11 Feb 2025   Prob (F-statistic):              0.143\n",
      "Time:                        21:26:54   Log-Likelihood:                -272.56\n",
      "No. Observations:                  80   AIC:                             549.1\n",
      "Df Residuals:                      78   BIC:                             553.9\n",
      "Df Model:                           1                                         \n",
      "Covariance Type:            nonrobust                                         \n",
      "===================================================================================\n",
      "                      coef    std err          t      P>|t|      [0.025      0.975]\n",
      "-----------------------------------------------------------------------------------\n",
      "Intercept        2.702e-14      0.827   3.27e-14      1.000      -1.646       1.646\n",
      "treatment_resid    -5.0945      3.447     -1.478      0.143     -11.957       1.768\n",
      "==============================================================================\n",
      "Omnibus:                        3.834   Durbin-Watson:                   2.177\n",
      "Prob(Omnibus):                  0.147   Jarque-Bera (JB):                3.723\n",
      "Skew:                          -0.521   Prob(JB):                        0.155\n",
      "Kurtosis:                       2.829   Cond. No.                         4.17\n",
      "==============================================================================\n",
      "\n",
      "Notes:\n",
      "[1] Standard Errors assume that the covariance matrix of the errors is correctly specified.\n"
     ]
    }
   ],
   "source": [
    "m1 = smf.ols('days ~ severity + hospital', data=hospital).fit()\n",
    "m2 = smf.ols('treatment ~ severity + hospital', data=hospital).fit()\n",
    "m3 = smf.ols('days_resid ~ treatment_resid', data=hospital.assign(days_resid=m1.resid, treatment_resid=m2.resid)).fit()\n",
    "\n",
    "print(m3.summary())"
   ]
  },
  {
   "cell_type": "markdown",
   "metadata": {},
   "source": [
    "Si hacemos lo mismo, pero sin hospital el p-value ya es significativo"
   ]
  },
  {
   "cell_type": "code",
   "execution_count": null,
   "metadata": {},
   "outputs": [],
   "source": []
  },
  {
   "cell_type": "markdown",
   "metadata": {},
   "source": [
    "*Si el objetivo de su regresión está fuertemente ligado a interpretar los coeficientes, no agregar controles que predigan el tratamiento pero no tenga relación real con $y$*"
   ]
  },
  {
   "cell_type": "markdown",
   "metadata": {},
   "source": [
    "### Un poco más sobre modelado \n",
    "\n",
    "Tenemos los datos de tarjeta de crédito de una empresa, queremos predecir cuanto va a gastar un usuario y en función de eso darle un límite de crédito.\n",
    "\n",
    "Podemos asumir que :\n",
    "\n",
    "1- A mayor ingreso, mayor gasto\n",
    "\n",
    "2- A mayor límite de crédito, mayor gasto pero no en la misma proporción\n"
   ]
  },
  {
   "cell_type": "code",
   "execution_count": 9,
   "metadata": {},
   "outputs": [],
   "source": [
    "spend = pd.read_csv('spend_data.csv')\n"
   ]
  },
  {
   "cell_type": "code",
   "execution_count": null,
   "metadata": {},
   "outputs": [],
   "source": [
    "spend['wage_bins'] = pd.qcut(spend['wage'], q=5, labels=False) + 1"
   ]
  },
  {
   "cell_type": "markdown",
   "metadata": {},
   "source": [
    "Grafica el límite de crédito vs gasto, segmentado por salario "
   ]
  },
  {
   "cell_type": "code",
   "execution_count": null,
   "metadata": {},
   "outputs": [],
   "source": []
  },
  {
   "cell_type": "markdown",
   "metadata": {},
   "source": [
    "Efectivamente, líite de crédito, mayor gasto pero no es lineal al segmentar por ingreso.\n",
    "\n",
    "Predice el gasto usando una regresión simple de salrio y límite de crédito"
   ]
  },
  {
   "cell_type": "code",
   "execution_count": null,
   "metadata": {},
   "outputs": [],
   "source": []
  },
  {
   "cell_type": "code",
   "execution_count": null,
   "metadata": {},
   "outputs": [],
   "source": []
  },
  {
   "cell_type": "markdown",
   "metadata": {},
   "source": [
    "### Utilizando una función no lineal vamos a linearizar el modelo"
   ]
  },
  {
   "cell_type": "code",
   "execution_count": null,
   "metadata": {},
   "outputs": [],
   "source": []
  },
  {
   "cell_type": "code",
   "execution_count": null,
   "metadata": {},
   "outputs": [],
   "source": []
  },
  {
   "cell_type": "code",
   "execution_count": null,
   "metadata": {},
   "outputs": [],
   "source": []
  },
  {
   "cell_type": "markdown",
   "metadata": {},
   "source": [
    "¿Por qué esto mejora?\n",
    "\n",
    "Bivarido segmentado por el límite de crédito con predicciones 1"
   ]
  },
  {
   "cell_type": "code",
   "execution_count": null,
   "metadata": {},
   "outputs": [],
   "source": []
  },
  {
   "cell_type": "markdown",
   "metadata": {},
   "source": [
    "Ahora con la segunda prediccion"
   ]
  },
  {
   "cell_type": "code",
   "execution_count": null,
   "metadata": {},
   "outputs": [],
   "source": []
  },
  {
   "cell_type": "markdown",
   "metadata": {},
   "source": [
    "La predicción 2 se parece más a la realidad"
   ]
  },
  {
   "cell_type": "code",
   "execution_count": null,
   "metadata": {},
   "outputs": [],
   "source": []
  }
 ],
 "metadata": {
  "kernelspec": {
   "display_name": "base",
   "language": "python",
   "name": "python3"
  },
  "language_info": {
   "codemirror_mode": {
    "name": "ipython",
    "version": 3
   },
   "file_extension": ".py",
   "mimetype": "text/x-python",
   "name": "python",
   "nbconvert_exporter": "python",
   "pygments_lexer": "ipython3",
   "version": "3.12.3"
  }
 },
 "nbformat": 4,
 "nbformat_minor": 4
}
