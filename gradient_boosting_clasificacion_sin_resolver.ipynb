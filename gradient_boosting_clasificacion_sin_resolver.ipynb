{
 "cells": [
  {
   "cell_type": "code",
   "execution_count": 1,
   "id": "15b61470-abbf-42df-a61d-c1ccdb715620",
   "metadata": {},
   "outputs": [],
   "source": [
    "import pandas as pd\n",
    "import numpy as np\n",
    "from sklearn.model_selection import train_test_split, GridSearchCV\n",
    "from sklearn.metrics import roc_auc_score\n",
    "from sklearn.pipeline import Pipeline\n",
    "from sklearn.preprocessing import StandardScaler\n",
    "import matplotlib.pyplot as plt\n",
    "from sklearn.inspection import PartialDependenceDisplay\n",
    "\n",
    "\n",
    "# --- Limpieza de datos según lo indicado ---\n",
    "df = pd.read_csv('titanic.csv')\n",
    "df = df.drop(['PassengerId', 'Name', 'Ticket', 'Cabin'], axis=1)\n",
    "df = pd.get_dummies(df)\n",
    "del df['Sex_female']\n",
    "df['Age'] = df['Age'].fillna(df.Age.mean())\n",
    "\n",
    "# Variables predictoras y variable objetivo\n",
    "X = df.drop('Survived', axis=1)\n",
    "y = df['Survived']\n",
    "\n",
    "# --- División en conjunto de entrenamiento y test (80%-20%) ---\n",
    "X_train, X_test, y_train, y_test = train_test_split(\n",
    "    X, y, test_size=0.2, stratify=y, random_state=42\n",
    ")"
   ]
  },
  {
   "cell_type": "code",
   "execution_count": 2,
   "id": "df250d16-e98f-4615-b421-97fecf536547",
   "metadata": {},
   "outputs": [
    {
     "data": {
      "text/plain": [
       "0.8034255599472991"
      ]
     },
     "execution_count": 2,
     "metadata": {},
     "output_type": "execute_result"
    }
   ],
   "source": [
    "# Crea un gradient boosting\n",
    "# Crea un gradient boosting\n",
    "from sklearn.ensemble import GradientBoostingClassifier\n",
    "\n",
    "model = GradientBoostingClassifier(n_estimators=300, learning_rate=0.1, max_depth=4)\n",
    "model.fit(X_train, y_train)\n",
    "predicciones = model.predict_proba(X_test)[:,1]\n",
    "roc_auc_score(y_score=predicciones, y_true=y_test)"
   ]
  },
  {
   "cell_type": "code",
   "execution_count": 3,
   "id": "aa887305-0dd9-4ff1-91fd-dece0921bf30",
   "metadata": {},
   "outputs": [],
   "source": [
    "## Cross validation \n",
    "## Cross validation \n",
    "from sklearn.pipeline import Pipeline\n",
    "from sklearn.model_selection import GridSearchCV\n",
    "\n",
    "pipeline = Pipeline([\n",
    "    ('gbt', GradientBoostingClassifier(n_estimators=300))\n",
    "])\n",
    "\n",
    "params = {\n",
    "    'gbt__max_depth': [2,3,4,5],\n",
    "    'gbt__learning_rate': [0.1, 0.5, 0.01]\n",
    "}\n",
    "\n",
    "grid_gbt =GridSearchCV(estimator=pipeline, param_grid=params, cv=5, n_jobs=-1, scoring='roc_auc').fit(X_train, y_train)"
   ]
  },
  {
   "cell_type": "code",
   "execution_count": 4,
   "id": "49577fe9-8cdf-46e0-9c7f-dbcb105a9f09",
   "metadata": {},
   "outputs": [
    {
     "data": {
      "text/plain": [
       "{'gbt__learning_rate': 0.1, 'gbt__max_depth': 2}"
      ]
     },
     "execution_count": 4,
     "metadata": {},
     "output_type": "execute_result"
    }
   ],
   "source": [
    "# Mejor estimador \n",
    "grid_gbt.best_params_"
   ]
  },
  {
   "cell_type": "code",
   "execution_count": 5,
   "id": "df66af40-5fbe-4ef2-b396-694be2f6bdc0",
   "metadata": {},
   "outputs": [
    {
     "data": {
      "text/plain": [
       "0.7951910408432148"
      ]
     },
     "execution_count": 5,
     "metadata": {},
     "output_type": "execute_result"
    }
   ],
   "source": [
    "# AUC\n",
    "best_model = grid_gbt.best_estimator_.named_steps['gbt']\n",
    "predicciones = best_model.predict_proba(X_test)[:,1]\n",
    "roc_auc_score(y_score=predicciones, y_true=y_test)"
   ]
  },
  {
   "cell_type": "code",
   "execution_count": 6,
   "id": "1b8b6547-3c39-4c66-885a-e78459210f7e",
   "metadata": {},
   "outputs": [],
   "source": [
    "## Calibracion"
   ]
  },
  {
   "cell_type": "code",
   "execution_count": 9,
   "id": "f092f14e-dd84-4dec-91f7-a0c7e60b5cfd",
   "metadata": {},
   "outputs": [
    {
     "data": {
      "text/html": [
       "<div>\n",
       "<style scoped>\n",
       "    .dataframe tbody tr th:only-of-type {\n",
       "        vertical-align: middle;\n",
       "    }\n",
       "\n",
       "    .dataframe tbody tr th {\n",
       "        vertical-align: top;\n",
       "    }\n",
       "\n",
       "    .dataframe thead th {\n",
       "        text-align: right;\n",
       "    }\n",
       "</style>\n",
       "<table border=\"1\" class=\"dataframe\">\n",
       "  <thead>\n",
       "    <tr style=\"text-align: right;\">\n",
       "      <th></th>\n",
       "      <th>columna</th>\n",
       "      <th>importancia</th>\n",
       "    </tr>\n",
       "  </thead>\n",
       "  <tbody>\n",
       "    <tr>\n",
       "      <th>5</th>\n",
       "      <td>Sex_male</td>\n",
       "      <td>0.476146</td>\n",
       "    </tr>\n",
       "    <tr>\n",
       "      <th>4</th>\n",
       "      <td>Fare</td>\n",
       "      <td>0.170174</td>\n",
       "    </tr>\n",
       "    <tr>\n",
       "      <th>1</th>\n",
       "      <td>Age</td>\n",
       "      <td>0.154670</td>\n",
       "    </tr>\n",
       "    <tr>\n",
       "      <th>0</th>\n",
       "      <td>Pclass</td>\n",
       "      <td>0.148288</td>\n",
       "    </tr>\n",
       "    <tr>\n",
       "      <th>2</th>\n",
       "      <td>SibSp</td>\n",
       "      <td>0.025404</td>\n",
       "    </tr>\n",
       "    <tr>\n",
       "      <th>8</th>\n",
       "      <td>Embarked_S</td>\n",
       "      <td>0.017632</td>\n",
       "    </tr>\n",
       "    <tr>\n",
       "      <th>3</th>\n",
       "      <td>Parch</td>\n",
       "      <td>0.007544</td>\n",
       "    </tr>\n",
       "    <tr>\n",
       "      <th>7</th>\n",
       "      <td>Embarked_Q</td>\n",
       "      <td>0.000134</td>\n",
       "    </tr>\n",
       "    <tr>\n",
       "      <th>6</th>\n",
       "      <td>Embarked_C</td>\n",
       "      <td>0.000010</td>\n",
       "    </tr>\n",
       "  </tbody>\n",
       "</table>\n",
       "</div>"
      ],
      "text/plain": [
       "      columna  importancia\n",
       "5    Sex_male     0.476146\n",
       "4        Fare     0.170174\n",
       "1         Age     0.154670\n",
       "0      Pclass     0.148288\n",
       "2       SibSp     0.025404\n",
       "8  Embarked_S     0.017632\n",
       "3       Parch     0.007544\n",
       "7  Embarked_Q     0.000134\n",
       "6  Embarked_C     0.000010"
      ]
     },
     "execution_count": 9,
     "metadata": {},
     "output_type": "execute_result"
    }
   ],
   "source": [
    "# Entendiendo el modelo \n",
    "importancia = pd.DataFrame({\n",
    "    'columna': X.columns,\n",
    "    'importancia': best_model.feature_importances_\n",
    "})\n",
    "importancia.sort_values('importancia', ascending=False)"
   ]
  },
  {
   "cell_type": "code",
   "execution_count": 8,
   "id": "e31ab6b8-4ba5-4842-a189-3bc12d4c3385",
   "metadata": {},
   "outputs": [],
   "source": [
    "# Codigo for para partial dependence plot "
   ]
  },
  {
   "cell_type": "code",
   "execution_count": null,
   "id": "aa05bbcc-7dc5-4a58-90b6-35bcae54ef79",
   "metadata": {},
   "outputs": [],
   "source": []
  },
  {
   "cell_type": "code",
   "execution_count": null,
   "id": "016ba5ec-d00b-4853-ac21-03d4ab5df91c",
   "metadata": {},
   "outputs": [],
   "source": []
  }
 ],
 "metadata": {
  "kernelspec": {
   "display_name": "base",
   "language": "python",
   "name": "python3"
  },
  "language_info": {
   "codemirror_mode": {
    "name": "ipython",
    "version": 3
   },
   "file_extension": ".py",
   "mimetype": "text/x-python",
   "name": "python",
   "nbconvert_exporter": "python",
   "pygments_lexer": "ipython3",
   "version": "3.12.3"
  }
 },
 "nbformat": 4,
 "nbformat_minor": 5
}
