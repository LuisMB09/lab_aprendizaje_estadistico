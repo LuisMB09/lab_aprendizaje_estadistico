{
 "cells": [
  {
   "cell_type": "code",
   "execution_count": 1,
   "metadata": {},
   "outputs": [],
   "source": [
    "import pandas as pd\n",
    "import statsmodels.formula.api as smf"
   ]
  },
  {
   "cell_type": "code",
   "execution_count": 3,
   "metadata": {},
   "outputs": [
    {
     "data": {
      "text/html": [
       "<div>\n",
       "<style scoped>\n",
       "    .dataframe tbody tr th:only-of-type {\n",
       "        vertical-align: middle;\n",
       "    }\n",
       "\n",
       "    .dataframe tbody tr th {\n",
       "        vertical-align: top;\n",
       "    }\n",
       "\n",
       "    .dataframe thead th {\n",
       "        text-align: right;\n",
       "    }\n",
       "</style>\n",
       "<table border=\"1\" class=\"dataframe\">\n",
       "  <thead>\n",
       "    <tr style=\"text-align: right;\">\n",
       "      <th></th>\n",
       "      <th>wage</th>\n",
       "      <th>educ</th>\n",
       "      <th>exper</th>\n",
       "      <th>married</th>\n",
       "      <th>credit_score1</th>\n",
       "      <th>credit_score2</th>\n",
       "      <th>credit_limit</th>\n",
       "      <th>default</th>\n",
       "    </tr>\n",
       "  </thead>\n",
       "  <tbody>\n",
       "    <tr>\n",
       "      <th>0</th>\n",
       "      <td>950.0</td>\n",
       "      <td>11</td>\n",
       "      <td>16</td>\n",
       "      <td>1</td>\n",
       "      <td>500.0</td>\n",
       "      <td>518.0</td>\n",
       "      <td>3200.0</td>\n",
       "      <td>0</td>\n",
       "    </tr>\n",
       "    <tr>\n",
       "      <th>1</th>\n",
       "      <td>780.0</td>\n",
       "      <td>11</td>\n",
       "      <td>7</td>\n",
       "      <td>1</td>\n",
       "      <td>414.0</td>\n",
       "      <td>429.0</td>\n",
       "      <td>1700.0</td>\n",
       "      <td>0</td>\n",
       "    </tr>\n",
       "    <tr>\n",
       "      <th>2</th>\n",
       "      <td>1230.0</td>\n",
       "      <td>14</td>\n",
       "      <td>9</td>\n",
       "      <td>1</td>\n",
       "      <td>586.0</td>\n",
       "      <td>571.0</td>\n",
       "      <td>4200.0</td>\n",
       "      <td>0</td>\n",
       "    </tr>\n",
       "    <tr>\n",
       "      <th>3</th>\n",
       "      <td>1040.0</td>\n",
       "      <td>15</td>\n",
       "      <td>8</td>\n",
       "      <td>1</td>\n",
       "      <td>379.0</td>\n",
       "      <td>411.0</td>\n",
       "      <td>1500.0</td>\n",
       "      <td>0</td>\n",
       "    </tr>\n",
       "    <tr>\n",
       "      <th>4</th>\n",
       "      <td>1000.0</td>\n",
       "      <td>16</td>\n",
       "      <td>1</td>\n",
       "      <td>1</td>\n",
       "      <td>379.0</td>\n",
       "      <td>518.0</td>\n",
       "      <td>1800.0</td>\n",
       "      <td>0</td>\n",
       "    </tr>\n",
       "  </tbody>\n",
       "</table>\n",
       "</div>"
      ],
      "text/plain": [
       "     wage  educ  exper  married  credit_score1  credit_score2  credit_limit  \\\n",
       "0   950.0    11     16        1          500.0          518.0        3200.0   \n",
       "1   780.0    11      7        1          414.0          429.0        1700.0   \n",
       "2  1230.0    14      9        1          586.0          571.0        4200.0   \n",
       "3  1040.0    15      8        1          379.0          411.0        1500.0   \n",
       "4  1000.0    16      1        1          379.0          518.0        1800.0   \n",
       "\n",
       "   default  \n",
       "0        0  \n",
       "1        0  \n",
       "2        0  \n",
       "3        0  \n",
       "4        0  "
      ]
     },
     "execution_count": 3,
     "metadata": {},
     "output_type": "execute_result"
    }
   ],
   "source": [
    "df = pd.read_csv('risk_data.csv')\n",
    "df.head()"
   ]
  },
  {
   "cell_type": "markdown",
   "metadata": {},
   "source": [
    "$$z = \\theta_0 + \\theta_1*creditlimit$$\n",
    "\n",
    "$$P(y = 1 | X) = \\frac{1}{1 + e^{-z}}$$"
   ]
  },
  {
   "cell_type": "markdown",
   "metadata": {},
   "source": [
    "## Interpretando coeficientes\n",
    "\n",
    "### Supuestos\n",
    "- Sabemos por el teorema central del limite, que el promedio de los promedios es normal\n",
    "- Beta es realmente, en promedio _cuanto incremental log odds a medida que cambi $j$_ \n",
    "- Dado que beta es un promedio que se distribuye normal y tiene un error estandard, podemos ver si es estdísticamente diferente de 0 con la prueba Z\n",
    "\n",
    "\n",
    "### Procedimiento\n",
    "Se usa el estadístico $z score$ para probar si $\\beta_j=0$\n",
    "\n",
    "\n",
    "Es decir, la hipotesis nula nos dice que beta no tiene efecto, $H_0=0$\n",
    "\n",
    "Al igual que cuando normalizamos mediante esta forma:\n",
    "\n",
    "$$z = \\frac{\\mu - x}{\\sigma}$$\n",
    "\n",
    "Hacemos lo mismo con $\\beta_j$ ya que las $\\beta$ de una regresión lineal \n",
    "\n",
    "$$z_j = \\frac{\\beta_j - H_0}{SE_j}$$\n",
    "\n",
    "\n",
    "Dedo que la hipotsis nula es 0:\n",
    "\n",
    "$$z_j = \\frac{\\beta_j}{SE_j}$$\n",
    "\n",
    "Z se distribuye normal estandard, $Z -> N(0, \\sigma^2)$\n",
    "\n",
    "Buscamos el valor $Z$ en las tablitas de normal estandard y estimamos el P-value \n",
    "\n",
    "La prueba es de dos colas dado que la distribución normal es simetrica:\n",
    "\n",
    "$$p=2 * pvalue$$\n"
   ]
  },
  {
   "cell_type": "code",
   "execution_count": 6,
   "metadata": {},
   "outputs": [
    {
     "name": "stdout",
     "output_type": "stream",
     "text": [
      "Optimization terminated successfully.\n",
      "         Current function value: 0.419710\n",
      "         Iterations 6\n",
      "                           Logit Regression Results                           \n",
      "==============================================================================\n",
      "Dep. Variable:                default   No. Observations:                50000\n",
      "Model:                          Logit   Df Residuals:                    49998\n",
      "Method:                           MLE   Df Model:                            1\n",
      "Date:                Tue, 04 Mar 2025   Pseudo R-squ.:                 0.01034\n",
      "Time:                        20:14:30   Log-Likelihood:                -20986.\n",
      "converged:                       True   LL-Null:                       -21205.\n",
      "Covariance Type:            nonrobust   LLR p-value:                 2.402e-97\n",
      "================================================================================\n",
      "                   coef    std err          z      P>|z|      [0.025      0.975]\n",
      "--------------------------------------------------------------------------------\n",
      "Intercept       -1.1910      0.028    -42.555      0.000      -1.246      -1.136\n",
      "credit_limit    -0.0002   9.63e-06    -20.508      0.000      -0.000      -0.000\n",
      "================================================================================\n"
     ]
    }
   ],
   "source": [
    "model = smf.logit('default ~ credit_limit', data=df).fit()\n",
    "\n",
    "print(model.summary())"
   ]
  },
  {
   "cell_type": "code",
   "execution_count": 7,
   "metadata": {},
   "outputs": [
    {
     "data": {
      "text/plain": [
       "0.1508"
      ]
     },
     "execution_count": 7,
     "metadata": {},
     "output_type": "execute_result"
    }
   ],
   "source": [
    "df['default'].mean()"
   ]
  },
  {
   "cell_type": "markdown",
   "metadata": {},
   "source": [
    "### ¿Tiene sentido lo anterior? ¿cómo puede ser que _a mayor líite de crédito, menor default_ ?\n",
    "\n",
    "Las empresas le dan más límite de crédtito a los mejores clientes, podemos controlar por score de crédito y salario\n",
    "\n",
    "\n",
    "$$z = \\theta_0 + \\theta_1*creditlimit + \\theta_2*Salario + \\theta_3*score$$\n",
    "\n",
    "$$P(y = 1 | X) = \\frac{1}{1 + e^{-z}}$$"
   ]
  },
  {
   "cell_type": "code",
   "execution_count": 9,
   "metadata": {},
   "outputs": [
    {
     "name": "stdout",
     "output_type": "stream",
     "text": [
      "Optimization terminated successfully.\n",
      "         Current function value: 0.407682\n",
      "         Iterations 6\n",
      "                           Logit Regression Results                           \n",
      "==============================================================================\n",
      "Dep. Variable:                default   No. Observations:                50000\n",
      "Model:                          Logit   Df Residuals:                    49996\n",
      "Method:                           MLE   Df Model:                            3\n",
      "Date:                Tue, 04 Mar 2025   Pseudo R-squ.:                 0.03870\n",
      "Time:                        20:16:53   Log-Likelihood:                -20384.\n",
      "converged:                       True   LL-Null:                       -21205.\n",
      "Covariance Type:            nonrobust   LLR p-value:                     0.000\n",
      "=================================================================================\n",
      "                    coef    std err          z      P>|z|      [0.025      0.975]\n",
      "---------------------------------------------------------------------------------\n",
      "Intercept         0.2995      0.056      5.371      0.000       0.190       0.409\n",
      "credit_limit   2.524e-05   1.25e-05      2.011      0.044    6.43e-07    4.98e-05\n",
      "credit_score2    -0.0024      0.000    -19.478      0.000      -0.003      -0.002\n",
      "wage             -0.0010   4.94e-05    -19.878      0.000      -0.001      -0.001\n",
      "=================================================================================\n"
     ]
    }
   ],
   "source": [
    "model = smf.logit('default ~ credit_limit + credit_score2 + wage', data=df).fit()\n",
    "\n",
    "print(model.summary())"
   ]
  },
  {
   "cell_type": "markdown",
   "metadata": {},
   "source": [
    "Al igual que en regresiones lineales, si controlamos por las variables adecuadas podemos obtener el coeficiente correcto"
   ]
  }
 ],
 "metadata": {
  "kernelspec": {
   "display_name": "base",
   "language": "python",
   "name": "python3"
  },
  "language_info": {
   "codemirror_mode": {
    "name": "ipython",
    "version": 3
   },
   "file_extension": ".py",
   "mimetype": "text/x-python",
   "name": "python",
   "nbconvert_exporter": "python",
   "pygments_lexer": "ipython3",
   "version": "3.12.3"
  }
 },
 "nbformat": 4,
 "nbformat_minor": 4
}
