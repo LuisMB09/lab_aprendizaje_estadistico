{
 "cells": [
  {
   "cell_type": "markdown",
   "metadata": {},
   "source": [
    "## Regresión Logística"
   ]
  },
  {
   "cell_type": "code",
   "execution_count": null,
   "metadata": {},
   "outputs": [],
   "source": []
  },
  {
   "cell_type": "markdown",
   "metadata": {},
   "source": [
    "## Odds y Log Odds"
   ]
  },
  {
   "cell_type": "markdown",
   "metadata": {},
   "source": [
    "### <font color='navy'> Odds  <font color='black'>\n",
    "\n",
    "**Odds:** Mi equipo gana 1 a 4\n",
    "\n",
    "Eso significa que odds = $\\frac{1}{4}$\n",
    "\n",
    "**Probabilidad de ganar:** \n",
    "\n",
    "$$\n",
    "\\frac{1}{1+4} = 0.2\n",
    "$$\n",
    "\n",
    "**Probabilidad de perder:** \n",
    "\n",
    "$$\n",
    "1 - \\frac{1}{1+4} = 0.8\n",
    "$$\n",
    "\n",
    "#### Otro ejemplo:\n",
    "\n",
    "**Odds:** Mi equipo gana 5 a 3\n",
    "\n",
    "Eso significa que odds = $\\frac{5}{3}$\n",
    "\n",
    "**Probabilidad de ganar:** \n",
    "\n",
    "$$\n",
    "\\frac{5}{5+3} = 0.625\n",
    "$$\n",
    "\n",
    "**Probabilidad de perder:** \n",
    "\n",
    "$$\n",
    "1 - \\frac{5}{5+3} = 0.375\n",
    "$$\n",
    "\n",
    "**Definición.** La probabilidad de ganar entre la probabilidad de perder.\n",
    "\n",
    "$$\n",
    "odds = \\frac{p}{1-p}\n",
    "$$\n",
    "\n",
    "donde:\n",
    "- $p$ es la probabilidad de ganar.\n",
    "\n",
    "---\n",
    "\n",
    "### <font color='navy'> Log Odds  <font color='black'>\n",
    "\n",
    "$$\n",
    "ln (odds) = ln (\\frac{p}{1-p})\n",
    "$$\n",
    "\n",
    "Los coeficientes de la regresión logística se multiplican por X al igual que en la regresión lineal.\n",
    "\n",
    "z (log odds) se calcula:\n",
    "\n",
    "$$\n",
    "z = \\beta^T X\n",
    "$$\n",
    "\n",
    "p se calcula:\n",
    "\n",
    "$$\n",
    "p = \\frac{1}{1 + e^{-z}}\n",
    "$$\n",
    "\n",
    "Si $p > 0.5$ se clsifica como 1, si $p < 0.5$ se clasifica como 0."
   ]
  },
  {
   "cell_type": "code",
   "execution_count": null,
   "metadata": {},
   "outputs": [],
   "source": []
  }
 ],
 "metadata": {
  "kernelspec": {
   "display_name": "base",
   "language": "python",
   "name": "python3"
  },
  "language_info": {
   "codemirror_mode": {
    "name": "ipython",
    "version": 3
   },
   "file_extension": ".py",
   "mimetype": "text/x-python",
   "name": "python",
   "nbconvert_exporter": "python",
   "pygments_lexer": "ipython3",
   "version": "3.12.3"
  }
 },
 "nbformat": 4,
 "nbformat_minor": 2
}
