{
 "cells": [
  {
   "cell_type": "code",
   "execution_count": 28,
   "id": "bfb0224f",
   "metadata": {},
   "outputs": [
    {
     "name": "stdout",
     "output_type": "stream",
     "text": [
      "Spread del CDS: 180.73 puntos básicos\n"
     ]
    }
   ],
   "source": [
    "import numpy as np\n",
    "from datetime import datetime, timedelta\n",
    "from dateutil.relativedelta import relativedelta\n",
    "\n",
    "# Configurar la fecha de valuación\n",
    "settle = datetime.strptime('07-may-2024', '%d-%b-%Y')\n",
    "\n",
    "# Plazos y tasas de interés\n",
    "plazos = np.array([0.5, 1, 2, 3, 4, 5, 7, 10])\n",
    "tasas = np.array([5.3825, 5.2320, 5.0164, 4.8588, 4.7751, 4.6914, 4.6752, 4.6500]) / 100\n",
    "\n",
    "# Calcular fechas para la curva de tasas\n",
    "fechas_tasas = [settle + timedelta(days=int(360 * p)) for p in plazos]\n",
    "\n",
    "# Construir la curva de tasas (fechas y tasas)\n",
    "curva_tasas = list(zip(fechas_tasas, tasas))\n",
    "\n",
    "# Probabilidades de default (constantes para todas las fechas)\n",
    "probas_default = 0.062070\n",
    "probas = [(fecha, probas_default) for fecha in fechas_tasas]\n",
    "\n",
    "# Parámetros del CDS\n",
    "maturity = datetime.strptime('07-may-2026', '%d-%b-%Y')\n",
    "recovery_rate = 0.47\n",
    "\n",
    "# Generar fechas de pago del CDS (trimestrales)\n",
    "pmtdates = []\n",
    "current_date = settle + relativedelta(months=3)\n",
    "while current_date <= maturity:\n",
    "    pmtdates.append(current_date)\n",
    "    current_date += relativedelta(months=3)\n",
    "if not pmtdates or pmtdates[-1] != maturity:\n",
    "    pmtdates.append(maturity)\n",
    "\n",
    "# Función para interpolar tasas\n",
    "def interpolar_tasa(t):\n",
    "    if t <= plazos[0]:\n",
    "        return tasas[0]\n",
    "    elif t >= plazos[-1]:\n",
    "        return tasas[-1]\n",
    "    else:\n",
    "        return np.interp(t, plazos, tasas)\n",
    "\n",
    "# Calcular tiempos desde 'settle' en años\n",
    "tiempos = [(date - settle).days / 365.25 for date in pmtdates]\n",
    "\n",
    "# Interpolar tasas y calcular factores de descuento\n",
    "tasas_interpoladas = [interpolar_tasa(t) for t in tiempos]\n",
    "discount_factors = np.exp(-np.array(tasas_interpoladas) * np.array(tiempos))\n",
    "\n",
    "# Calcular probabilidades de supervivencia (1 - PD)\n",
    "survival_probs = [1 - probas_default] * len(pmtdates)\n",
    "\n",
    "# Calcular fracciones de tiempo entre pagos (ACT/360)\n",
    "deltas = []\n",
    "prev_date = settle\n",
    "for date in pmtdates:\n",
    "    delta_days = (date - prev_date).days\n",
    "    deltas.append(delta_days / 360.0)\n",
    "    prev_date = date\n",
    "\n",
    "# PV de la pata premium\n",
    "premium_leg = np.sum(discount_factors * survival_probs * deltas)\n",
    "\n",
    "# PV de la pata de protección (defaults entre fechas)\n",
    "protection_leg = 0.0\n",
    "prev_q = 0.0\n",
    "for i in range(len(pmtdates)):\n",
    "    q = probas_default  # PD acumulada (incorrecto pero según código original)\n",
    "    protection_leg += (1 - recovery_rate) * (q - prev_q) * discount_factors[i]\n",
    "    prev_q = q\n",
    "\n",
    "# Calcular el spread del CDS\n",
    "spread = protection_leg / premium_leg\n",
    "\n",
    "print(f\"Spread del CDS: {spread * 10000:.2f} puntos básicos\")"
   ]
  }
 ],
 "metadata": {
  "kernelspec": {
   "display_name": "base",
   "language": "python",
   "name": "python3"
  },
  "language_info": {
   "codemirror_mode": {
    "name": "ipython",
    "version": 3
   },
   "file_extension": ".py",
   "mimetype": "text/x-python",
   "name": "python",
   "nbconvert_exporter": "python",
   "pygments_lexer": "ipython3",
   "version": "3.12.3"
  }
 },
 "nbformat": 4,
 "nbformat_minor": 5
}
