{
 "cells": [
  {
   "cell_type": "code",
   "execution_count": 1,
   "metadata": {},
   "outputs": [],
   "source": [
    "import pandas as pd\n",
    "import matplotlib.pyplot as plt\n",
    "import numpy as np\n",
    "from scipy import stats\n",
    "import statsmodels.formula.api as smf\n",
    "import seaborn as sns\n",
    "from sklearn import linear_model\n",
    "\n",
    "data = pd.read_csv(\"online_classroom.csv\")\n"
   ]
  },
  {
   "cell_type": "code",
   "execution_count": 2,
   "metadata": {},
   "outputs": [],
   "source": [
    "target = 'falsexam'\n",
    "treatment = 'format_ol'"
   ]
  },
  {
   "cell_type": "code",
   "execution_count": 3,
   "metadata": {},
   "outputs": [
    {
     "data": {
      "text/plain": [
       "73.63526308510637"
      ]
     },
     "execution_count": 3,
     "metadata": {},
     "output_type": "execute_result"
    }
   ],
   "source": [
    "# Efecto a primera vista\n",
    "data.query(\"format_ol == 1\").falsexam.mean()"
   ]
  },
  {
   "cell_type": "code",
   "execution_count": 4,
   "metadata": {},
   "outputs": [
    {
     "data": {
      "text/plain": [
       "77.85552344978166"
      ]
     },
     "execution_count": 4,
     "metadata": {},
     "output_type": "execute_result"
    }
   ],
   "source": [
    "data.query(\"format_ol != 1\").falsexam.mean()"
   ]
  },
  {
   "cell_type": "markdown",
   "metadata": {},
   "source": [
    "Por propiedades de la regresión lineal (que no veremo en este curso de momento) las $\\beta_i$ son realmente un promedio de las variables categoricas.\n",
    "\n",
    "Quiere decir que podríamos usar una regresión para probar hipotesis"
   ]
  },
  {
   "cell_type": "code",
   "execution_count": 5,
   "metadata": {},
   "outputs": [
    {
     "data": {
      "text/html": [
       "<table class=\"simpletable\">\n",
       "<tr>\n",
       "      <td></td>         <th>coef</th>     <th>std err</th>      <th>t</th>      <th>P>|t|</th>  <th>[0.025</th>    <th>0.975]</th>  \n",
       "</tr>\n",
       "<tr>\n",
       "  <th>Intercept</th> <td>   77.8555</td> <td>    0.762</td> <td>  102.235</td> <td> 0.000</td> <td>   76.357</td> <td>   79.354</td>\n",
       "</tr>\n",
       "<tr>\n",
       "  <th>format_ol</th> <td>   -4.2203</td> <td>    1.412</td> <td>   -2.990</td> <td> 0.003</td> <td>   -6.998</td> <td>   -1.443</td>\n",
       "</tr>\n",
       "</table>"
      ],
      "text/latex": [
       "\\begin{center}\n",
       "\\begin{tabular}{lcccccc}\n",
       "\\toprule\n",
       "                    & \\textbf{coef} & \\textbf{std err} & \\textbf{t} & \\textbf{P$> |$t$|$} & \\textbf{[0.025} & \\textbf{0.975]}  \\\\\n",
       "\\midrule\n",
       "\\textbf{Intercept}  &      77.8555  &        0.762     &   102.235  &         0.000        &       76.357    &       79.354     \\\\\n",
       "\\textbf{format\\_ol} &      -4.2203  &        1.412     &    -2.990  &         0.003        &       -6.998    &       -1.443     \\\\\n",
       "\\bottomrule\n",
       "\\end{tabular}\n",
       "\\end{center}"
      ],
      "text/plain": [
       "<class 'statsmodels.iolib.table.SimpleTable'>"
      ]
     },
     "execution_count": 5,
     "metadata": {},
     "output_type": "execute_result"
    }
   ],
   "source": [
    "# Regresion\n",
    "model = smf.ols(\"falsexam ~ format_ol\", data=data).fit()\n",
    "model.summary().tables[1]"
   ]
  },
  {
   "cell_type": "markdown",
   "metadata": {},
   "source": [
    "El modelo nos da el coeficiente, que es exactamente igual a la diferencia de los promedios"
   ]
  },
  {
   "cell_type": "code",
   "execution_count": null,
   "metadata": {},
   "outputs": [],
   "source": []
  },
  {
   "cell_type": "markdown",
   "metadata": {},
   "source": [
    "#### Intentando estimar la variabilidad de $\\beta$, resampleo"
   ]
  },
  {
   "cell_type": "code",
   "execution_count": null,
   "metadata": {},
   "outputs": [],
   "source": []
  },
  {
   "cell_type": "code",
   "execution_count": null,
   "metadata": {},
   "outputs": [],
   "source": []
  },
  {
   "cell_type": "code",
   "execution_count": 51,
   "metadata": {},
   "outputs": [
    {
     "data": {
      "text/plain": [
       "1.6385911479498296"
      ]
     },
     "execution_count": 51,
     "metadata": {},
     "output_type": "execute_result"
    }
   ],
   "source": [
    "np.std(coeficiente)"
   ]
  },
  {
   "cell_type": "markdown",
   "metadata": {},
   "source": [
    "#### Varianza de los residuos\n",
    "$\\hat{\\sigma^2} = \\frac{\\sum(y - \\hat{y})^2}{n - p - 1}$\n",
    "\n",
    "Donde:\n",
    "\n",
    "$n$  es el total de datos\n",
    "\n",
    "$p$ total de variables\n",
    "\n",
    "Esto sería simplemente el error cuadrático promedio de mi modelo \n",
    "\n",
    "#### Variabilidad de lo que usas para predecir \n",
    "\n",
    "Suma de los cuadrados de X  =$\\sum (x - \\hat{x_i})^2$\n",
    "\n",
    "Esto es la varianza de tu predictor pero sin dividir entre n\n",
    "\n",
    "#### Varianza del coeficiente $\\beta$\n",
    "\n",
    "$SE(\\beta)$ = $\\sqrt{\\frac{\\hat{\\sigma^2}}{\\sum (x - \\hat{x_i})^2}}$\n"
   ]
  },
  {
   "cell_type": "code",
   "execution_count": null,
   "metadata": {},
   "outputs": [],
   "source": []
  },
  {
   "cell_type": "markdown",
   "metadata": {},
   "source": [
    "### Estadístico t\n",
    "\n",
    "$t = \\lvert \\frac{\\beta_i}{SE(\\beta_i)} \\rvert$\n",
    "\n",
    "nos dice cuántas desviaciones estándar $\\beta$ está  lejos de cero.\n",
    "\n",
    "Ojo: la distibución $t$ es simetrica y puede ser del lado derecho o izquierdo, habría que multiplicar este p value por dos\n",
    "\n"
   ]
  },
  {
   "cell_type": "code",
   "execution_count": null,
   "metadata": {},
   "outputs": [],
   "source": []
  },
  {
   "cell_type": "markdown",
   "metadata": {},
   "source": [
    "P - Value\n",
    "\n",
    "$2 * P(T > \\lvert t \\rvert)$\n",
    "\n",
    "Si bien el estadístico t nos dice cuantas desviaciones estandard está por arriba de 0, puede ser a cualquier lado \n",
    "\n",
    "- Si t es muy positivo, queremos ver la probabilidad de obtener un valor tan alto o mayor.\n",
    "\n",
    "- Si t es muy negativo, queremos ver la probabilidad de obtener un valor tan bajo o menor."
   ]
  },
  {
   "cell_type": "code",
   "execution_count": null,
   "metadata": {},
   "outputs": [],
   "source": []
  },
  {
   "cell_type": "markdown",
   "metadata": {},
   "source": [
    "P-value\n",
    "\n",
    "1 - stats.t.cdf(abs(t), df=len(data))"
   ]
  },
  {
   "cell_type": "code",
   "execution_count": null,
   "metadata": {},
   "outputs": [],
   "source": []
  },
  {
   "cell_type": "markdown",
   "metadata": {},
   "source": [
    "Intervalos de confianza"
   ]
  },
  {
   "cell_type": "code",
   "execution_count": null,
   "metadata": {},
   "outputs": [],
   "source": []
  },
  {
   "cell_type": "code",
   "execution_count": null,
   "metadata": {},
   "outputs": [],
   "source": []
  },
  {
   "cell_type": "markdown",
   "metadata": {},
   "source": [
    "### Usando stats model \n",
    "\n",
    "Sklearn no nos da el intervalo de confianza ni el valor P de los estimados, afortunadamente statsmodel si nos lo puede dar"
   ]
  },
  {
   "cell_type": "code",
   "execution_count": null,
   "metadata": {},
   "outputs": [],
   "source": []
  },
  {
   "cell_type": "markdown",
   "metadata": {},
   "source": [
    "### Volviendo al ejemplo de las casas\n",
    "\n",
    "median_income y total_rooms"
   ]
  },
  {
   "cell_type": "code",
   "execution_count": 95,
   "metadata": {},
   "outputs": [],
   "source": [
    "df = pd.read_csv('housing.csv')"
   ]
  },
  {
   "cell_type": "code",
   "execution_count": null,
   "metadata": {},
   "outputs": [],
   "source": []
  },
  {
   "cell_type": "code",
   "execution_count": null,
   "metadata": {},
   "outputs": [],
   "source": []
  },
  {
   "cell_type": "code",
   "execution_count": null,
   "metadata": {},
   "outputs": [],
   "source": []
  },
  {
   "cell_type": "code",
   "execution_count": null,
   "metadata": {},
   "outputs": [],
   "source": []
  },
  {
   "cell_type": "code",
   "execution_count": null,
   "metadata": {},
   "outputs": [],
   "source": []
  }
 ],
 "metadata": {
  "kernelspec": {
   "display_name": "base",
   "language": "python",
   "name": "python3"
  },
  "language_info": {
   "codemirror_mode": {
    "name": "ipython",
    "version": 3
   },
   "file_extension": ".py",
   "mimetype": "text/x-python",
   "name": "python",
   "nbconvert_exporter": "python",
   "pygments_lexer": "ipython3",
   "version": "3.12.3"
  }
 },
 "nbformat": 4,
 "nbformat_minor": 4
}
