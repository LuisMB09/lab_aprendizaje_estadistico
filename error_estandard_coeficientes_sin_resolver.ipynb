{
 "cells": [
  {
   "cell_type": "code",
   "execution_count": 1,
   "metadata": {},
   "outputs": [],
   "source": [
    "import pandas as pd\n",
    "import matplotlib.pyplot as plt\n",
    "import numpy as np\n",
    "from scipy import stats\n",
    "import statsmodels.formula.api as smf\n",
    "import seaborn as sns\n",
    "from sklearn import linear_model\n",
    "\n",
    "data = pd.read_csv(\"online_classroom.csv\")\n"
   ]
  },
  {
   "cell_type": "code",
   "execution_count": 2,
   "metadata": {},
   "outputs": [],
   "source": [
    "target = 'falsexam'\n",
    "treatment = 'format_ol'"
   ]
  },
  {
   "cell_type": "code",
   "execution_count": 3,
   "metadata": {},
   "outputs": [
    {
     "data": {
      "text/plain": [
       "73.63526308510637"
      ]
     },
     "execution_count": 3,
     "metadata": {},
     "output_type": "execute_result"
    }
   ],
   "source": [
    "# Efecto a primera vista\n",
    "data.query(\"format_ol == 1\").falsexam.mean()"
   ]
  },
  {
   "cell_type": "code",
   "execution_count": 4,
   "metadata": {},
   "outputs": [
    {
     "data": {
      "text/plain": [
       "77.85552344978166"
      ]
     },
     "execution_count": 4,
     "metadata": {},
     "output_type": "execute_result"
    }
   ],
   "source": [
    "data.query(\"format_ol != 1\").falsexam.mean()"
   ]
  },
  {
   "cell_type": "markdown",
   "metadata": {},
   "source": [
    "Por propiedades de la regresión lineal (que no veremo en este curso de momento) las $\\beta_i$ son realmente un promedio de las variables categoricas.\n",
    "\n",
    "Quiere decir que podríamos usar una regresión para probar hipotesis"
   ]
  },
  {
   "cell_type": "code",
   "execution_count": 7,
   "metadata": {},
   "outputs": [
    {
     "name": "stdout",
     "output_type": "stream",
     "text": [
      "                            OLS Regression Results                            \n",
      "==============================================================================\n",
      "Dep. Variable:               falsexam   R-squared:                       0.027\n",
      "Model:                            OLS   Adj. R-squared:                  0.024\n",
      "Method:                 Least Squares   F-statistic:                     8.938\n",
      "Date:                Tue, 11 Feb 2025   Prob (F-statistic):            0.00301\n",
      "Time:                        20:12:07   Log-Likelihood:                -1246.9\n",
      "No. Observations:                 323   AIC:                             2498.\n",
      "Df Residuals:                     321   BIC:                             2505.\n",
      "Df Model:                           1                                         \n",
      "Covariance Type:            nonrobust                                         \n",
      "==============================================================================\n",
      "                 coef    std err          t      P>|t|      [0.025      0.975]\n",
      "------------------------------------------------------------------------------\n",
      "Intercept     77.8555      0.762    102.235      0.000      76.357      79.354\n",
      "format_ol     -4.2203      1.412     -2.990      0.003      -6.998      -1.443\n",
      "==============================================================================\n",
      "Omnibus:                      158.169   Durbin-Watson:                   2.009\n",
      "Prob(Omnibus):                  0.000   Jarque-Bera (JB):             1253.296\n",
      "Skew:                          -1.858   Prob(JB):                    7.08e-273\n",
      "Kurtosis:                      11.906   Cond. No.                         2.43\n",
      "==============================================================================\n",
      "\n",
      "Notes:\n",
      "[1] Standard Errors assume that the covariance matrix of the errors is correctly specified.\n"
     ]
    }
   ],
   "source": [
    "# Regresion\n",
    "model = smf.ols(\"falsexam ~ format_ol\", data=data).fit()\n",
    "print(model.summary())"
   ]
  },
  {
   "cell_type": "markdown",
   "metadata": {},
   "source": [
    "El modelo nos da el coeficiente, que es exactamente igual a la diferencia de los promedios"
   ]
  },
  {
   "cell_type": "code",
   "execution_count": null,
   "metadata": {},
   "outputs": [],
   "source": []
  },
  {
   "cell_type": "markdown",
   "metadata": {},
   "source": [
    "#### Intentando estimar la variabilidad de $\\beta$, resampleo"
   ]
  },
  {
   "cell_type": "code",
   "execution_count": 8,
   "metadata": {},
   "outputs": [],
   "source": [
    "coeficiente = []\n",
    "for i in range(500):\n",
    "    my_data = data.sample(len(data), replace=True)\n",
    "    X = my_data[[treatment]]\n",
    "    y = my_data[target]\n",
    "    model = linear_model.LinearRegression().fit(X, y)\n",
    "    coeficiente.append(model.coef_[0])"
   ]
  },
  {
   "cell_type": "code",
   "execution_count": 10,
   "metadata": {},
   "outputs": [],
   "source": [
    "coeficiente;"
   ]
  },
  {
   "cell_type": "code",
   "execution_count": 11,
   "metadata": {},
   "outputs": [
    {
     "data": {
      "text/plain": [
       "1.616251408007004"
      ]
     },
     "execution_count": 11,
     "metadata": {},
     "output_type": "execute_result"
    }
   ],
   "source": [
    "np.std(coeficiente)"
   ]
  },
  {
   "cell_type": "code",
   "execution_count": 15,
   "metadata": {},
   "outputs": [
    {
     "data": {
      "image/png": "[encoded data removed]",
      "text/plain": [
       "<Figure size 640x480 with 1 Axes>"
      ]
     },
     "metadata": {},
     "output_type": "display_data"
    }
   ],
   "source": [
    "plt.hist(coeficiente, bins=50);"
   ]
  },
  {
   "cell_type": "markdown",
   "metadata": {},
   "source": [
    "#### Varianza de los residuos\n",
    "$\\hat{\\sigma^2} = \\frac{\\sum(y - \\hat{y})^2}{n - p - 1}$\n",
    "\n",
    "Donde:\n",
    "\n",
    "$n$  es el total de datos\n",
    "\n",
    "$p$ total de variables\n",
    "\n",
    "Esto sería simplemente el error cuadrático promedio de mi modelo \n",
    "\n",
    "#### Variabilidad de lo que usas para predecir \n",
    "\n",
    "Suma de los cuadrados de X  =$\\sum (x - \\hat{x_i})^2$\n",
    "\n",
    "Esto es la varianza de tu predictor pero sin dividir entre n\n",
    "\n",
    "#### Varianza del coeficiente $\\beta$\n",
    "\n",
    "$SE(\\beta)$ = $\\sqrt{\\frac{\\hat{\\sigma^2}}{\\sum (x - \\hat{x_i})^2}}$\n"
   ]
  },
  {
   "cell_type": "code",
   "execution_count": null,
   "metadata": {},
   "outputs": [],
   "source": []
  },
  {
   "cell_type": "markdown",
   "metadata": {},
   "source": [
    "### Estadístico t\n",
    "\n",
    "$t = \\lvert \\frac{\\beta_i}{SE(\\beta_i)} \\rvert$\n",
    "\n",
    "nos dice cuántas desviaciones estándar $\\beta$ está  lejos de cero.\n",
    "\n",
    "Ojo: la distibución $t$ es simetrica y puede ser del lado derecho o izquierdo, habría que multiplicar este p value por dos\n",
    "\n"
   ]
  },
  {
   "cell_type": "code",
   "execution_count": null,
   "metadata": {},
   "outputs": [],
   "source": []
  },
  {
   "cell_type": "markdown",
   "metadata": {},
   "source": [
    "P - Value\n",
    "\n",
    "$2 * P(T > \\lvert t \\rvert)$\n",
    "\n",
    "Si bien el estadístico t nos dice cuantas desviaciones estandard está por arriba de 0, puede ser a cualquier lado \n",
    "\n",
    "- Si t es muy positivo, queremos ver la probabilidad de obtener un valor tan alto o mayor.\n",
    "\n",
    "- Si t es muy negativo, queremos ver la probabilidad de obtener un valor tan bajo o menor."
   ]
  },
  {
   "cell_type": "code",
   "execution_count": null,
   "metadata": {},
   "outputs": [],
   "source": []
  },
  {
   "cell_type": "markdown",
   "metadata": {},
   "source": [
    "P-value\n",
    "\n",
    "1 - stats.t.cdf(abs(t), df=len(data))"
   ]
  },
  {
   "cell_type": "code",
   "execution_count": null,
   "metadata": {},
   "outputs": [],
   "source": []
  },
  {
   "cell_type": "markdown",
   "metadata": {},
   "source": [
    "Intervalos de confianza"
   ]
  },
  {
   "cell_type": "code",
   "execution_count": null,
   "metadata": {},
   "outputs": [],
   "source": []
  },
  {
   "cell_type": "code",
   "execution_count": null,
   "metadata": {},
   "outputs": [],
   "source": []
  },
  {
   "cell_type": "markdown",
   "metadata": {},
   "source": [
    "### Usando stats model \n",
    "\n",
    "Sklearn no nos da el intervalo de confianza ni el valor P de los estimados, afortunadamente statsmodel si nos lo puede dar"
   ]
  },
  {
   "cell_type": "code",
   "execution_count": null,
   "metadata": {},
   "outputs": [],
   "source": []
  },
  {
   "cell_type": "markdown",
   "metadata": {},
   "source": [
    "### Volviendo al ejemplo de las casas\n",
    "\n",
    "median_income y total_rooms"
   ]
  },
  {
   "cell_type": "code",
   "execution_count": 95,
   "metadata": {},
   "outputs": [],
   "source": [
    "df = pd.read_csv('housing.csv')"
   ]
  },
  {
   "cell_type": "code",
   "execution_count": null,
   "metadata": {},
   "outputs": [],
   "source": []
  },
  {
   "cell_type": "code",
   "execution_count": null,
   "metadata": {},
   "outputs": [],
   "source": []
  },
  {
   "cell_type": "code",
   "execution_count": null,
   "metadata": {},
   "outputs": [],
   "source": []
  },
  {
   "cell_type": "code",
   "execution_count": null,
   "metadata": {},
   "outputs": [],
   "source": []
  },
  {
   "cell_type": "code",
   "execution_count": null,
   "metadata": {},
   "outputs": [],
   "source": []
  }
 ],
 "metadata": {
  "kernelspec": {
   "display_name": "base",
   "language": "python",
   "name": "python3"
  },
  "language_info": {
   "codemirror_mode": {
    "name": "ipython",
    "version": 3
   },
   "file_extension": ".py",
   "mimetype": "text/x-python",
   "name": "python",
   "nbconvert_exporter": "python",
   "pygments_lexer": "ipython3",
   "version": "3.12.3"
  }
 },
 "nbformat": 4,
 "nbformat_minor": 4
}
